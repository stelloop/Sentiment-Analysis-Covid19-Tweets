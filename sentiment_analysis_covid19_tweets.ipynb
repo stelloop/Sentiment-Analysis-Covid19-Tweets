{
  "cells": [
    {
      "cell_type": "markdown",
      "source": [
        "# Authors\n",
        "* Georgios Nikolaou    - 1115202000154 </br>\n",
        "* Styliani Fragkiadaki - 1115201900205"
      ],
      "metadata": {
        "id": "kB2Sv9VeQRgf"
      }
    },
    {
      "cell_type": "markdown",
      "metadata": {
        "id": "ozjL-04GMo2B"
      },
      "source": [
        "# Importing essential libraries"
      ]
    },
    {
      "cell_type": "code",
      "execution_count": null,
      "metadata": {
        "colab": {
          "base_uri": "https://localhost:8080/"
        },
        "id": "bTEawW_H1E8S",
        "outputId": "89c57b59-f120-48fc-c476-97df23d6409f"
      },
      "outputs": [
        {
          "output_type": "stream",
          "name": "stdout",
          "text": [
            "[nltk_data] Downloading package stopwords to /root/nltk_data...\n",
            "[nltk_data]   Unzipping corpora/stopwords.zip.\n",
            "[nltk_data] Downloading package punkt to /root/nltk_data...\n",
            "[nltk_data]   Unzipping tokenizers/punkt.zip.\n",
            "[nltk_data] Downloading package wordnet to /root/nltk_data...\n",
            "[nltk_data]   Unzipping corpora/wordnet.zip.\n",
            "[nltk_data] Downloading package omw-1.4 to /root/nltk_data...\n",
            "[nltk_data]   Unzipping corpora/omw-1.4.zip.\n",
            "Collecting pyLDAvis\n",
            "  Downloading pyLDAvis-3.3.1.tar.gz (1.7 MB)\n",
            "\u001b[K     |████████████████████████████████| 1.7 MB 5.2 MB/s \n",
            "\u001b[?25h  Installing build dependencies ... \u001b[?25l\u001b[?25hdone\n",
            "  Getting requirements to build wheel ... \u001b[?25l\u001b[?25hdone\n",
            "  Installing backend dependencies ... \u001b[?25l\u001b[?25hdone\n",
            "    Preparing wheel metadata ... \u001b[?25l\u001b[?25hdone\n",
            "Requirement already satisfied: scipy in /usr/local/lib/python3.7/dist-packages (from pyLDAvis) (1.4.1)\n",
            "Requirement already satisfied: future in /usr/local/lib/python3.7/dist-packages (from pyLDAvis) (0.16.0)\n",
            "Requirement already satisfied: jinja2 in /usr/local/lib/python3.7/dist-packages (from pyLDAvis) (2.11.3)\n",
            "Collecting funcy\n",
            "  Downloading funcy-1.17-py2.py3-none-any.whl (33 kB)\n",
            "Requirement already satisfied: joblib in /usr/local/lib/python3.7/dist-packages (from pyLDAvis) (1.1.0)\n",
            "Requirement already satisfied: setuptools in /usr/local/lib/python3.7/dist-packages (from pyLDAvis) (57.4.0)\n",
            "Requirement already satisfied: gensim in /usr/local/lib/python3.7/dist-packages (from pyLDAvis) (3.6.0)\n",
            "Requirement already satisfied: pandas>=1.2.0 in /usr/local/lib/python3.7/dist-packages (from pyLDAvis) (1.3.5)\n",
            "Requirement already satisfied: sklearn in /usr/local/lib/python3.7/dist-packages (from pyLDAvis) (0.0)\n",
            "Requirement already satisfied: numpy>=1.20.0 in /usr/local/lib/python3.7/dist-packages (from pyLDAvis) (1.21.6)\n",
            "Requirement already satisfied: scikit-learn in /usr/local/lib/python3.7/dist-packages (from pyLDAvis) (1.0.2)\n",
            "Requirement already satisfied: numexpr in /usr/local/lib/python3.7/dist-packages (from pyLDAvis) (2.8.1)\n",
            "Requirement already satisfied: pytz>=2017.3 in /usr/local/lib/python3.7/dist-packages (from pandas>=1.2.0->pyLDAvis) (2022.1)\n",
            "Requirement already satisfied: python-dateutil>=2.7.3 in /usr/local/lib/python3.7/dist-packages (from pandas>=1.2.0->pyLDAvis) (2.8.2)\n",
            "Requirement already satisfied: six>=1.5 in /usr/local/lib/python3.7/dist-packages (from python-dateutil>=2.7.3->pandas>=1.2.0->pyLDAvis) (1.15.0)\n",
            "Requirement already satisfied: smart-open>=1.2.1 in /usr/local/lib/python3.7/dist-packages (from gensim->pyLDAvis) (6.0.0)\n",
            "Requirement already satisfied: MarkupSafe>=0.23 in /usr/local/lib/python3.7/dist-packages (from jinja2->pyLDAvis) (2.0.1)\n",
            "Requirement already satisfied: packaging in /usr/local/lib/python3.7/dist-packages (from numexpr->pyLDAvis) (21.3)\n",
            "Requirement already satisfied: pyparsing!=3.0.5,>=2.0.2 in /usr/local/lib/python3.7/dist-packages (from packaging->numexpr->pyLDAvis) (3.0.8)\n",
            "Requirement already satisfied: threadpoolctl>=2.0.0 in /usr/local/lib/python3.7/dist-packages (from scikit-learn->pyLDAvis) (3.1.0)\n",
            "Building wheels for collected packages: pyLDAvis\n",
            "  Building wheel for pyLDAvis (PEP 517) ... \u001b[?25l\u001b[?25hdone\n",
            "  Created wheel for pyLDAvis: filename=pyLDAvis-3.3.1-py2.py3-none-any.whl size=136898 sha256=ea5c464878dff1959815c2e6f5302f0bb1bec28818aa708274841563be660064\n",
            "  Stored in directory: /root/.cache/pip/wheels/c9/21/f6/17bcf2667e8a68532ba2fbf6d5c72fdf4c7f7d9abfa4852d2f\n",
            "Successfully built pyLDAvis\n",
            "Installing collected packages: funcy, pyLDAvis\n",
            "Successfully installed funcy-1.17 pyLDAvis-3.3.1\n"
          ]
        },
        {
          "output_type": "stream",
          "name": "stderr",
          "text": [
            "/usr/local/lib/python3.7/dist-packages/past/types/oldstr.py:5: DeprecationWarning: Using or importing the ABCs from 'collections' instead of from 'collections.abc' is deprecated since Python 3.3,and in 3.9 it will stop working\n",
            "  from collections import Iterable\n"
          ]
        }
      ],
      "source": [
        "import pickle\n",
        "import numpy as np\n",
        "import pandas as pd\n",
        "pd.set_option('display.max_colwidth', 700) \n",
        "import re\n",
        "import matplotlib.pyplot as plt\n",
        "from wordcloud import WordCloud\n",
        "import time\n",
        "from collections import Counter\n",
        "\n",
        "\n",
        "import nltk\n",
        "from nltk.corpus import stopwords\n",
        "from nltk.tokenize import word_tokenize\n",
        "from nltk.stem import WordNetLemmatizer, PorterStemmer\n",
        "nltk.download('stopwords')\n",
        "nltk.download('punkt')\n",
        "nltk.download('wordnet')\n",
        "nltk.download('omw-1.4')\n",
        "\n",
        "\n",
        "from sklearn.model_selection import cross_validate, KFold, train_test_split\n",
        "from sklearn.metrics import make_scorer, accuracy_score, precision_score, recall_score, f1_score\n",
        "from sklearn.feature_extraction.text import CountVectorizer, TfidfVectorizer\n",
        "from sklearn import svm\n",
        "from sklearn.ensemble import RandomForestClassifier\n",
        "from sklearn.neighbors import KNeighborsClassifier\n",
        "\n",
        "\n",
        "from gensim.corpora.dictionary import Dictionary\n",
        "from gensim.models.ldamodel import LdaModel\n",
        "!pip3 install pyLDAvis\n",
        "import pyLDAvis\n",
        "from gensim.models import CoherenceModel\n",
        "import pyLDAvis.gensim_models as gensimvis\n",
        "\n",
        "import warnings\n",
        "warnings.filterwarnings(\"ignore\") \n",
        "\n",
        "from sklearn.model_selection import GridSearchCV, RandomizedSearchCV\n",
        "from sklearn.metrics import classification_report"
      ]
    },
    {
      "cell_type": "markdown",
      "source": [
        "# Mount drive to store and have access to the files"
      ],
      "metadata": {
        "id": "46pSeynZnoKp"
      }
    },
    {
      "cell_type": "code",
      "execution_count": null,
      "metadata": {
        "colab": {
          "base_uri": "https://localhost:8080/"
        },
        "id": "84xz-1wz627_",
        "outputId": "d5e01621-0040-4260-a79b-880cc220d98d"
      },
      "outputs": [
        {
          "output_type": "stream",
          "name": "stdout",
          "text": [
            "Mounted at /content/gdrive\n"
          ]
        }
      ],
      "source": [
        "from google.colab import drive\n",
        "\n",
        "drive.mount('/content/gdrive')\n",
        "ROOT_PATH = 'gdrive/My Drive/tede_data/'  \n",
        "\n",
        "VECTORIZERS = ROOT_PATH + 'vectorizers/'\n",
        "DATASETS = ROOT_PATH + 'datasets/'\n",
        "GLOVE = ROOT_PATH + 'glove/'"
      ]
    },
    {
      "cell_type": "markdown",
      "metadata": {
        "id": "mo66Rhcm2YUN"
      },
      "source": [
        "# Utility functions"
      ]
    },
    {
      "cell_type": "code",
      "execution_count": null,
      "metadata": {
        "id": "U-8eAAvz2Xxr"
      },
      "outputs": [],
      "source": [
        "def write_data(path, obj):\n",
        "    with open(path, 'wb') as file:\n",
        "        pickle.dump(obj, file)\n",
        "\n",
        "def load_data(*paths):\n",
        "    assert(paths)\n",
        "    to_return = [pd.read_pickle(path) for path in paths]\n",
        "    return to_return if len(to_return) != 1 else to_return[0]\n",
        "\n",
        "def load_glove_model(path):\n",
        "    glove_model = {}\n",
        "    with open(path,'r') as f:\n",
        "        for line in f:\n",
        "            tokens = line.split()\n",
        "            glove_model[tokens[0]] = np.array(tokens[1:], dtype=np.float64)\n",
        "\n",
        "    return glove_model"
      ]
    },
    {
      "cell_type": "markdown",
      "metadata": {
        "id": "96SzYKODYaBj"
      },
      "source": [
        "# Functions for plotting data"
      ]
    },
    {
      "cell_type": "code",
      "execution_count": null,
      "metadata": {
        "id": "2naGKLSeYb8g"
      },
      "outputs": [],
      "source": [
        "def pie_plot(values, lables, title):\n",
        "    total = sum(values)\n",
        "    perc = [v / total for v in values]\n",
        "    plt.pie(perc, labels = lables)\n",
        "    plt.title(title)\n",
        "    plt.show() \n",
        "\n",
        "def hor_bar_plot(height, bars, title):\n",
        "    y_pos = np.arange(len(bars))\n",
        "    plt.barh(y_pos, height)\n",
        "    plt.yticks(y_pos, bars)\n",
        "    plt.title(title)\n",
        "    plt.show()\n",
        "\n",
        "def line_plot(x, y, title):\n",
        "    plt.plot( 'x_values', 'y_values', \n",
        "              data=pd.DataFrame({'x_values': x, 'y_values': y }), color='skyblue')\n",
        "    plt.title(title)\n",
        "    plt.show()"
      ]
    },
    {
      "cell_type": "markdown",
      "source": [
        "# Question 1\n",
        "Lowercase the letters, remove mentions (@), hashtags (#) and links and then only keep the lower case english letters (removes emojis etc).\n",
        "This removes the numbers as well but they are not really important to understand the sentiment of the tweet.\n",
        "\n",
        "We finally remove the stopwords (the, and, ...) and we get the cleaned tweet"
      ],
      "metadata": {
        "id": "Xt1Gio7HgF1J"
      }
    },
    {
      "cell_type": "code",
      "execution_count": null,
      "metadata": {
        "id": "sY_fscZJ41zN"
      },
      "outputs": [],
      "source": [
        "def clean_tweets(tweets):\n",
        "    new_tweets = []\n",
        "    sw = stopwords.words('english') \n",
        "    sw.remove('not')\n",
        "    for tweet in tweets:\n",
        "        # Remove mentions, hashtags and links, on the now lowercase text\n",
        "        new_tweet = re.sub(r\"(@\\S+)|(#\\S+)|(http\\S+)|(www.\\S+)\",\"\", tweet.lower())\n",
        "\n",
        "        # Remove every character that is not a letter\n",
        "        new_tweet = re.sub(\"[^a-z]\",\" \", new_tweet)\n",
        "\n",
        "        # Remove stopwords\n",
        "        new_tweet = ' '.join([word for word in word_tokenize(new_tweet) if not word in sw])\n",
        "\n",
        "        new_tweets.append(new_tweet)\n",
        "\n",
        "    return new_tweets"
      ]
    },
    {
      "cell_type": "code",
      "execution_count": null,
      "metadata": {
        "id": "DjuAwlM5lYKG"
      },
      "outputs": [],
      "source": [
        "df = load_data(DATASETS + 'data_set.pkl')\n",
        "df['text'] = clean_tweets(df['text'])\n",
        "write_data(DATASETS + 'data_set_clean.pkl', df)"
      ]
    },
    {
      "cell_type": "markdown",
      "metadata": {
        "id": "3IGCP5TD5GaS"
      },
      "source": [
        "# Initial train-test split\n",
        "We split the data into 2 subsets, the training set that will be used to finetune the models and the test set that will be used to evaluate the final model that will have been fitted in all of the training set data."
      ]
    },
    {
      "cell_type": "code",
      "execution_count": null,
      "metadata": {
        "id": "cFpFPNLy4_3h"
      },
      "outputs": [],
      "source": [
        "df = load_data(DATASETS + 'data_set_clean.pkl')\n",
        "\n",
        "train_data, test_data = train_test_split(df, test_size=0.2, random_state=1, stratify=df['sentiment'].values)\n",
        "write_data(DATASETS + 'train.pkl', train_data)\n",
        "write_data(DATASETS + 'test.pkl', test_data)"
      ]
    },
    {
      "cell_type": "markdown",
      "metadata": {
        "id": "TJRayCiG5Jv9"
      },
      "source": [
        "# Question 2\n"
      ]
    },
    {
      "cell_type": "code",
      "execution_count": null,
      "metadata": {
        "id": "tX3Z3wJI46Io"
      },
      "outputs": [],
      "source": [
        "def sentiments_distr(dataframe, title, feelings = ['NEG', 'NEU', 'POS']):\n",
        "    feelings_list = list(dataframe['sentiment'].values)\n",
        "    counts = [feelings_list.count(f) for f in feelings]\n",
        "\n",
        "    pie_plot(counts, tuple(feelings), title)\n",
        "\n",
        "def find_most_frequent(dataframe, title, most_frequent = 5, sentiment = None):\n",
        "    tweets = dataframe['text']\n",
        "    sentiments = dataframe['sentiment']\n",
        "    subset = tweets if sentiment == None else [t for (t,s) in zip(tweets, sentiments) if s == sentiment]\n",
        "\n",
        "    words = (' '.join(subset)).split()\n",
        "    c = Counter(words)\n",
        "    frequent = c.most_common(most_frequent)\n",
        "\n",
        "    hor_bar_plot([c[1] for c in frequent], tuple([c[0] for c in frequent]), title)"
      ]
    },
    {
      "cell_type": "code",
      "execution_count": null,
      "metadata": {
        "id": "ZIlEl58-lUvA"
      },
      "outputs": [],
      "source": [
        "df = load_data(DATASETS + 'train.pkl')"
      ]
    },
    {
      "cell_type": "markdown",
      "source": [
        "## i. Sentiment distribution of tweets"
      ],
      "metadata": {
        "id": "mJqi8Gy5YLEe"
      }
    },
    {
      "cell_type": "code",
      "source": [
        "sentiments_distr(df, \"Sentiment distribution of tweets\")"
      ],
      "metadata": {
        "colab": {
          "base_uri": "https://localhost:8080/",
          "height": 264
        },
        "id": "dBkQkbBgXobr",
        "outputId": "6d5eacd4-374a-4556-c6e0-25ab0d72d6a6"
      },
      "execution_count": null,
      "outputs": [
        {
          "output_type": "display_data",
          "data": {
            "text/plain": [
              "<Figure size 432x288 with 1 Axes>"
            ],
            "image/png": "[encoded data removed]"
          },
          "metadata": {}
        }
      ]
    },
    {
      "cell_type": "markdown",
      "source": [
        "## ii. Most frequent words of tweets"
      ],
      "metadata": {
        "id": "fdYMgQbZYKrj"
      }
    },
    {
      "cell_type": "code",
      "source": [
        "find_most_frequent(df, \"Most frequent words of tweets\")"
      ],
      "metadata": {
        "colab": {
          "base_uri": "https://localhost:8080/",
          "height": 281
        },
        "id": "rWNx_k1DXq_D",
        "outputId": "532b0292-8e77-4e43-d9b8-ae16e6685eb5"
      },
      "execution_count": null,
      "outputs": [
        {
          "output_type": "display_data",
          "data": {
            "text/plain": [
              "<Figure size 432x288 with 1 Axes>"
            ],
            "image/png": "[encoded data removed]"
          },
          "metadata": {
            "needs_background": "light"
          }
        }
      ]
    },
    {
      "cell_type": "markdown",
      "source": [
        "## iii. Most frequent words of tweets depending on their sentiment"
      ],
      "metadata": {
        "id": "LzmZrU-cYKWB"
      }
    },
    {
      "cell_type": "code",
      "source": [
        "find_most_frequent(df, \"Most frequent words of the negative tweets\", sentiment = 'NEG')\n",
        "find_most_frequent(df, \"Most frequent words of the neutral tweets\", sentiment = 'NEU')\n",
        "find_most_frequent(df, \"Most frequent words of the positive tweets\", sentiment = 'POS')"
      ],
      "metadata": {
        "colab": {
          "base_uri": "https://localhost:8080/",
          "height": 809
        },
        "id": "vEu1laHWXsFO",
        "outputId": "25e6d527-c46b-4b84-c53e-449a7e8115df"
      },
      "execution_count": null,
      "outputs": [
        {
          "output_type": "display_data",
          "data": {
            "text/plain": [
              "<Figure size 432x288 with 1 Axes>"
            ],
            "image/png": "[encoded data removed]"
          },
          "metadata": {
            "needs_background": "light"
          }
        },
        {
          "output_type": "display_data",
          "data": {
            "text/plain": [
              "<Figure size 432x288 with 1 Axes>"
            ],
            "image/png": "[encoded data removed]"
          },
          "metadata": {
            "needs_background": "light"
          }
        },
        {
          "output_type": "display_data",
          "data": {
            "text/plain": [
              "<Figure size 432x288 with 1 Axes>"
            ],
            "image/png": "[encoded data removed]"
          },
          "metadata": {
            "needs_background": "light"
          }
        }
      ]
    },
    {
      "cell_type": "markdown",
      "source": [
        "## Sentiment distributions depending on vaccine"
      ],
      "metadata": {
        "id": "NOwBxPoLYKFR"
      }
    },
    {
      "cell_type": "code",
      "source": [
        "astra_df = df[df['text'].str.contains('astrazeneca') == True]\n",
        "rest_vacc_df = df[df['text'].str.contains('moderna|pfizer|biontech') == True]\n",
        "\n",
        "sentiments_distr(astra_df, 'sentiments distribution for astrazeneca')\n",
        "sentiments_distr(rest_vacc_df, 'sentiment distribution for pfizer, moderna and biontech')"
      ],
      "metadata": {
        "colab": {
          "base_uri": "https://localhost:8080/",
          "height": 511
        },
        "id": "miYoTHpwXt6z",
        "outputId": "843b703d-d343-41ed-a110-987dfc398260"
      },
      "execution_count": null,
      "outputs": [
        {
          "output_type": "display_data",
          "data": {
            "text/plain": [
              "<Figure size 432x288 with 1 Axes>"
            ],
            "image/png": "[encoded data removed]"
          },
          "metadata": {}
        },
        {
          "output_type": "display_data",
          "data": {
            "text/plain": [
              "<Figure size 432x288 with 1 Axes>"
            ],
            "image/png": "[encoded data removed]"
          },
          "metadata": {}
        }
      ]
    },
    {
      "cell_type": "markdown",
      "source": [
        "## v. Monthly tweet count"
      ],
      "metadata": {
        "id": "bN6t9Y1EXzyG"
      }
    },
    {
      "cell_type": "code",
      "source": [
        "df['date'] = pd.to_datetime(df['date'])\n",
        "grouped = df.groupby([df['date'].dt.month]).agg('count')\n",
        "\n",
        "counts = grouped['id'].to_list()\n",
        "months = ('JAN','FEB','MAR','APR','MAY','JUN','JUL','AUG','SEP','OCT','NOV','DEC')\n",
        "\n",
        "hor_bar_plot(counts, months, 'tweets per month')"
      ],
      "metadata": {
        "id": "rRbPz0XPj7IV",
        "colab": {
          "base_uri": "https://localhost:8080/",
          "height": 281
        },
        "outputId": "72f7d011-152e-4a6d-8ca3-16082f54cc3c"
      },
      "execution_count": null,
      "outputs": [
        {
          "output_type": "display_data",
          "data": {
            "text/plain": [
              "<Figure size 432x288 with 1 Axes>"
            ],
            "image/png": "[encoded data removed]"
          },
          "metadata": {
            "needs_background": "light"
          }
        }
      ]
    },
    {
      "cell_type": "markdown",
      "source": [
        "We observe that when big news about COVID-19 are announced, the number of tweets grows by a lot. We did some research on reliable sourses, and here are some interesting and noteworthy finds:\n",
        "\n",
        "June 2021 (1st in tweets) : Delta variant, a more deadly mutation of COVID-19 emerges in most countries of the world and it seems that even vaccined people could be in danger [https://www.nytimes.com/2021/06/22/health/delta-variant-covid.html] \n",
        "\n",
        "August 2021 (2nd in tweets) : Official FDA approval of the Pfizer vaccine. Pro-vaccine VS anti-vaccine conflict grows bigger and bigger [https://www.immunize.org/timeline/] \n",
        "\n",
        "March 2020 (4th in tweets) : WHO characterizes COVID-19 as a pandemic, and the first lockdowns are emerging worldwide. [https://www.yalemedicine.org/news/covid-timeline]"
      ],
      "metadata": {
        "id": "2SvABVINj8kD"
      }
    },
    {
      "cell_type": "markdown",
      "source": [
        "## vi. Some observations of the data"
      ],
      "metadata": {
        "id": "kzno40lSX1H0"
      }
    },
    {
      "cell_type": "code",
      "source": [
        "def sentiment_correlation(dataframe, title, column='retweets', sentiments = ['NEG', 'NEU', 'POS']):\n",
        "    sentiment_map = {'NEG' : 0, 'NEU' : 0, 'POS': 0}\n",
        "    sentiment_count = {'NEG' : 0, 'NEU' : 0, 'POS': 0}\n",
        "    for ind in dataframe.index:\n",
        "        sentiment_map[dataframe['sentiment'][ind]] += dataframe[column][ind]\n",
        "        sentiment_count[dataframe['sentiment'][ind]] += 1\n",
        "\n",
        "    # find averages\n",
        "    ratio = [sentiment_map[key] / sentiment_count[key] for key in sentiment_map.keys()]\n",
        "    print([(key, sentiment_map[key] / sentiment_count[key]) for key in sentiment_map.keys()])\n",
        "\n",
        "    hor_bar_plot(ratio, sentiments, title)"
      ],
      "metadata": {
        "id": "kZ6un9Jukhme"
      },
      "execution_count": null,
      "outputs": []
    },
    {
      "cell_type": "code",
      "source": [
        "sentiment_correlation(df, 'retweet ratio among sentiments')"
      ],
      "metadata": {
        "colab": {
          "base_uri": "https://localhost:8080/",
          "height": 298
        },
        "id": "rWoYCWEtiCUh",
        "outputId": "266d2a15-14bc-4f65-e12c-e99489f855f4"
      },
      "execution_count": null,
      "outputs": [
        {
          "output_type": "stream",
          "name": "stdout",
          "text": [
            "[('NEG', 1.9179028652712864), ('NEU', 2.3711930972055946), ('POS', 3.7599179858859433)]\n"
          ]
        },
        {
          "output_type": "display_data",
          "data": {
            "text/plain": [
              "<Figure size 432x288 with 1 Axes>"
            ],
            "image/png": "[encoded data removed]"
          },
          "metadata": {
            "needs_background": "light"
          }
        }
      ]
    },
    {
      "cell_type": "markdown",
      "source": [
        "The positive tweets get about 60% more retweets than neutral and 95% (!) more than negative tweets.\n",
        "\n",
        "We would expect that more controversial takes (positive or negative) would get the most retweets by quite a margin.\n",
        "\n",
        "But it appears that in these trying times, people did not want negativity, they needed to feel like things were getting better and this is reflected on their retweets."
      ],
      "metadata": {
        "id": "4pCoikGg0df_"
      }
    },
    {
      "cell_type": "code",
      "source": [
        "sentiment_correlation(df, 'favorites ratio among sentiments', column='favorites')"
      ],
      "metadata": {
        "colab": {
          "base_uri": "https://localhost:8080/",
          "height": 298
        },
        "id": "d286NZPiiD57",
        "outputId": "a594bd9d-6805-40b2-dcd3-e3ef2b419755"
      },
      "execution_count": null,
      "outputs": [
        {
          "output_type": "stream",
          "name": "stdout",
          "text": [
            "[('NEG', 6.45954074375127), ('NEU', 10.142545332437878), ('POS', 20.792246805264163)]\n"
          ]
        },
        {
          "output_type": "display_data",
          "data": {
            "text/plain": [
              "<Figure size 432x288 with 1 Axes>"
            ],
            "image/png": "[encoded data removed]"
          },
          "metadata": {
            "needs_background": "light"
          }
        }
      ]
    },
    {
      "cell_type": "markdown",
      "source": [
        "The above statement is supported by the ratio of favorites on the different tweets (meaning how much people liked the tweet), where positive tweets are favorited twice as much as the neutral tweets and three times as much as the negative tweets, which highlights the need people have had for positivity"
      ],
      "metadata": {
        "id": "tBl5j8FUiE0C"
      }
    },
    {
      "cell_type": "markdown",
      "metadata": {
        "id": "DKR0PKLq6Dvg"
      },
      "source": [
        "# Question 3"
      ]
    },
    {
      "cell_type": "code",
      "execution_count": null,
      "metadata": {
        "id": "RiLmVam_46AQ"
      },
      "outputs": [],
      "source": [
        "MAX_DF = 1.0\n",
        "MIN_DF = 2\n",
        "MAX_FEATURES = 1000\n",
        "\n",
        "def prepare_emb(tweets, model_path):\n",
        "    model = pd.read_pickle(model_path)\n",
        "    vectorized = []\n",
        "    dims = len(list(model.values())[0])\n",
        "\n",
        "    for tweet in tweets:\n",
        "        vectors = [model[word] for word in tweet.split() if word in model]\n",
        "        vector = (sum(vectors) / len(vectors)) if vectors else np.zeros((dims,))\n",
        "        vectorized.append(vector)\n",
        "\n",
        "    return vectorized \n",
        "\n",
        "def prepare_vector(tweets, vectorizer_path):\n",
        "    vectorizer = load_data(vectorizer_path)\n",
        "    return vectorizer.transform(tweets)\n",
        "\n",
        "def fit_vectorizer(tweets, method, max_df=MAX_DF, min_df=MIN_DF, max_features=MAX_FEATURES):\n",
        "    vectorizer = method(max_df=max_df, min_df=min_df, max_features=max_features)\n",
        "    vectorizer.fit(tweets)\n",
        "    return vectorizer\n",
        "\n",
        "def transform_data(tweets, vec):\n",
        "    return vec.transform(tweets)\n",
        "\n",
        "def fit_transform_vectorizer(tweets, method, max_df=MAX_DF, min_df=MIN_DF, max_features=MAX_FEATURES):\n",
        "    vectorizer = method(max_df=max_df, min_df=min_df, max_features=max_features)\n",
        "    return vectorizer.fit_transform(tweets)"
      ]
    },
    {
      "cell_type": "markdown",
      "source": [
        "Fit the vectorizers to the training set tweets and store them for future use\n",
        "\n",
        "For the word embeddings we use the pretrained glove model and therefore we don't have to do anything for that"
      ],
      "metadata": {
        "id": "w70-Sr-2p-pK"
      }
    },
    {
      "cell_type": "code",
      "execution_count": null,
      "metadata": {
        "id": "XUwEXKfulQGW"
      },
      "outputs": [],
      "source": [
        "df = load_data(DATASETS + 'train.pkl')\n",
        "\n",
        "write_data(VECTORIZERS + 'bow.pkl', fit_vectorizer(df['text'], method=CountVectorizer))\n",
        "write_data(VECTORIZERS + 'tf_idf.pkl', fit_vectorizer(df['text'], method=TfidfVectorizer))"
      ]
    },
    {
      "cell_type": "markdown",
      "source": [
        "Create the representations (bow, td-idf, word embeddings) with the vectorizers we have for both the training set and the test set and store them for future use"
      ],
      "metadata": {
        "id": "QC2bao7lqE0m"
      }
    },
    {
      "cell_type": "code",
      "source": [
        "write_data(VECTORIZERS + 'bow_train_vectorized.pkl', prepare_vector(df['text'], VECTORIZERS + 'bow.pkl'))\n",
        "write_data(VECTORIZERS + 'tf_idf_train_vectorized.pkl', prepare_vector(df['text'], VECTORIZERS + 'tf_idf.pkl'))\n",
        "write_data(VECTORIZERS + 'embeddings_train_vectorized.pkl', prepare_vector(df['text'], VECTORIZERS + 'embeddings.pkl'))"
      ],
      "metadata": {
        "id": "25VCyO5RoyPg"
      },
      "execution_count": null,
      "outputs": []
    },
    {
      "cell_type": "code",
      "source": [
        "df = load_data(DATASETS + 'test.pkl')\n",
        "\n",
        "write_data(VECTORIZERS + 'bow_test_vectorized.pkl', prepare_vector(df['text'], VECTORIZERS + 'bow.pkl'))\n",
        "write_data(VECTORIZERS + 'tf_idf_test_vectorized.pkl', prepare_vector(df['text'], VECTORIZERS + 'tf_idf.pkl'))\n",
        "write_data(VECTORIZERS + 'embeddings_test_vectorized.pkl', prepare_vector(df['text'], VECTORIZERS + 'embeddings.pkl'))"
      ],
      "metadata": {
        "id": "HT-PEwgrp7xy"
      },
      "execution_count": null,
      "outputs": []
    },
    {
      "cell_type": "markdown",
      "metadata": {
        "id": "9kFjKsPp6fYr"
      },
      "source": [
        "# Question 4"
      ]
    },
    {
      "cell_type": "markdown",
      "source": [
        "## Cross Validation and metrics analysis\n",
        "For (almost) default classifiers, do cross validation on a percentage of the dataset (5% in our case) and print the desired metrics using `classification_report`\n",
        "\n",
        "`classification_report` shows all the desired metrics, (both micro and macro precision, recall and f1)\n",
        "\n",
        "It also shows the results for each class seperately which is helpful and that's why it was chosen\n",
        "\n",
        "By default when `cv=int` `cross_validate` does K-Fold cross validation with `(Stratified)KFold` where K is the integer given"
      ],
      "metadata": {
        "id": "7HiTTET6Z-hq"
      }
    },
    {
      "cell_type": "code",
      "execution_count": null,
      "metadata": {
        "id": "dQZB87T545d-"
      },
      "outputs": [],
      "source": [
        "def cross_val(clf, X, y, factor, message = '', cv = 5):\n",
        "    start_time = time.time()\n",
        "    true = []\n",
        "    predicted = []\n",
        "\n",
        "    def cr_acc(y_true, y_pred):\n",
        "        true.extend(y_true)\n",
        "        predicted.extend(y_pred)\n",
        "        return accuracy_score(y_true, y_pred)\n",
        "        \n",
        "    cross_validate(estimator=clf, X=X, y=y, cv=cv, scoring=make_scorer(cr_acc))\n",
        "    \n",
        "    print(\"%s%s%.2f seconds, on %.2f%% of the given dataset - %d samples\" % \n",
        "    (message, ', ' if message != '' else '', time.time() - start_time, factor * 100, len(y)))\n",
        "\n",
        "    print(classification_report(true, predicted, zero_division=0))\n",
        "\n",
        "def train(dataset_path, fraction = 0.2, cv = 5):\n",
        "    \n",
        "    df = load_data(dataset_path).sample(frac=fraction)\n",
        "\n",
        "    y = df['sentiment']\n",
        "    bow = prepare_vector(df['text'], VECTORIZERS + 'bow.pkl')\n",
        "    tf_idf = prepare_vector(df['text'], VECTORIZERS + 'tf_idf.pkl')\n",
        "    emb = prepare_emb(df['text'], model_path=GLOVE + 'glove_200d.pkl')\n",
        "\n",
        "    svm_clf = svm.SVC(C = 100.)\n",
        "    rf_clf = RandomForestClassifier(max_depth=10, n_estimators=50)\n",
        "    knn_clf = KNeighborsClassifier()\n",
        "\n",
        "    cross_val(svm_clf, bow, y, fraction, message='SVM with BOW', cv=cv)\n",
        "    cross_val(svm_clf, tf_idf, y, fraction, message='SVM with Tf-idf', cv=cv)\n",
        "    cross_val(svm_clf, emb, y, fraction, message='SVM with Word Embeddings', cv=cv)\n",
        "\n",
        "    cross_val(rf_clf, bow, y, fraction, message='Random Forests with BOW', cv=cv)\n",
        "    cross_val(rf_clf, tf_idf, y, fraction, message='Random Forests with Tf-idf', cv=cv)\n",
        "    cross_val(rf_clf, emb, y, fraction, message='Random Forests with Word Embeddings', cv=cv)\n",
        "\n",
        "    cross_val(knn_clf, bow, y, fraction, message='KNN with BOW', cv=cv)\n",
        "    cross_val(knn_clf, tf_idf, y, fraction, message='KNN with Tf-idf', cv=cv)\n",
        "    cross_val(knn_clf, emb, y, fraction, message='KNN with Word Embeddings', cv=cv)"
      ]
    },
    {
      "cell_type": "code",
      "source": [
        "train(DATASETS + 'train.pkl', 0.05, 10)"
      ],
      "metadata": {
        "colab": {
          "base_uri": "https://localhost:8080/"
        },
        "id": "Ek5vqMOJurOh",
        "outputId": "88425a00-4520-481e-d8fe-45e5b0c7a823"
      },
      "execution_count": null,
      "outputs": [
        {
          "output_type": "stream",
          "name": "stdout",
          "text": [
            "SVM with BOW, 61.74 seconds, on 5.00% of the given dataset - 9128 samples\n",
            "              precision    recall  f1-score   support\n",
            "\n",
            "         NEG       0.42      0.33      0.37      1258\n",
            "         NEU       0.82      0.89      0.85      6817\n",
            "         POS       0.57      0.42      0.48      1053\n",
            "\n",
            "    accuracy                           0.76      9128\n",
            "   macro avg       0.60      0.55      0.57      9128\n",
            "weighted avg       0.74      0.76      0.74      9128\n",
            "\n",
            "SVM with Tf-idf, 82.23 seconds, on 5.00% of the given dataset - 9128 samples\n",
            "              precision    recall  f1-score   support\n",
            "\n",
            "         NEG       0.55      0.30      0.39      1258\n",
            "         NEU       0.82      0.94      0.88      6817\n",
            "         POS       0.70      0.43      0.54      1053\n",
            "\n",
            "    accuracy                           0.79      9128\n",
            "   macro avg       0.69      0.56      0.60      9128\n",
            "weighted avg       0.77      0.79      0.77      9128\n",
            "\n",
            "SVM with Word Embeddings, 102.37 seconds, on 5.00% of the given dataset - 9128 samples\n",
            "              precision    recall  f1-score   support\n",
            "\n",
            "         NEG       0.59      0.55      0.57      1258\n",
            "         NEU       0.86      0.89      0.88      6817\n",
            "         POS       0.64      0.55      0.59      1053\n",
            "\n",
            "    accuracy                           0.81      9128\n",
            "   macro avg       0.70      0.67      0.68      9128\n",
            "weighted avg       0.80      0.81      0.80      9128\n",
            "\n",
            "Random Forests with BOW, 3.03 seconds, on 5.00% of the given dataset - 9128 samples\n",
            "              precision    recall  f1-score   support\n",
            "\n",
            "         NEG       0.75      0.00      0.01      1258\n",
            "         NEU       0.75      1.00      0.86      6817\n",
            "         POS       0.71      0.00      0.01      1053\n",
            "\n",
            "    accuracy                           0.75      9128\n",
            "   macro avg       0.74      0.34      0.29      9128\n",
            "weighted avg       0.74      0.75      0.64      9128\n",
            "\n",
            "Random Forests with Tf-idf, 2.04 seconds, on 5.00% of the given dataset - 9128 samples\n",
            "              precision    recall  f1-score   support\n",
            "\n",
            "         NEG       0.80      0.01      0.01      1258\n",
            "         NEU       0.75      1.00      0.86      6817\n",
            "         POS       0.75      0.00      0.01      1053\n",
            "\n",
            "    accuracy                           0.75      9128\n",
            "   macro avg       0.77      0.34      0.29      9128\n",
            "weighted avg       0.76      0.75      0.64      9128\n",
            "\n",
            "Random Forests with Word Embeddings, 41.09 seconds, on 5.00% of the given dataset - 9128 samples\n",
            "              precision    recall  f1-score   support\n",
            "\n",
            "         NEG       0.79      0.12      0.20      1258\n",
            "         NEU       0.77      0.99      0.87      6817\n",
            "         POS       0.85      0.13      0.23      1053\n",
            "\n",
            "    accuracy                           0.77      9128\n",
            "   macro avg       0.80      0.41      0.43      9128\n",
            "weighted avg       0.78      0.77      0.70      9128\n",
            "\n",
            "KNN with BOW, 2.19 seconds, on 5.00% of the given dataset - 9128 samples\n",
            "              precision    recall  f1-score   support\n",
            "\n",
            "         NEG       0.40      0.12      0.18      1258\n",
            "         NEU       0.77      0.96      0.86      6817\n",
            "         POS       0.66      0.16      0.25      1053\n",
            "\n",
            "    accuracy                           0.75      9128\n",
            "   macro avg       0.61      0.41      0.43      9128\n",
            "weighted avg       0.71      0.75      0.69      9128\n",
            "\n",
            "KNN with Tf-idf, 1.87 seconds, on 5.00% of the given dataset - 9128 samples\n",
            "              precision    recall  f1-score   support\n",
            "\n",
            "         NEG       0.43      0.12      0.18      1258\n",
            "         NEU       0.77      0.97      0.86      6817\n",
            "         POS       0.73      0.17      0.28      1053\n",
            "\n",
            "    accuracy                           0.76      9128\n",
            "   macro avg       0.64      0.42      0.44      9128\n",
            "weighted avg       0.72      0.76      0.70      9128\n",
            "\n",
            "KNN with Word Embeddings, 2.98 seconds, on 5.00% of the given dataset - 9128 samples\n",
            "              precision    recall  f1-score   support\n",
            "\n",
            "         NEG       0.50      0.41      0.45      1258\n",
            "         NEU       0.82      0.91      0.86      6817\n",
            "         POS       0.62      0.32      0.42      1053\n",
            "\n",
            "    accuracy                           0.77      9128\n",
            "   macro avg       0.65      0.55      0.58      9128\n",
            "weighted avg       0.75      0.77      0.76      9128\n",
            "\n"
          ]
        }
      ]
    },
    {
      "cell_type": "markdown",
      "source": [
        "## Training models on the complete training set\n",
        "\n",
        "Train models on the complete training set, expect SVM with word embeddings (takes too much time), we train that on 35% of the training set\n",
        "\n",
        "* SVM -> BOW: 7h45min\n",
        "* SVM -> TF-IDF: 8h\n",
        "* SVM -> Word Embeddings: 3h35min (12+h, didn't finish) "
      ],
      "metadata": {
        "id": "dxN_EaCRaArk"
      }
    },
    {
      "cell_type": "code",
      "execution_count": null,
      "metadata": {
        "id": "VBu8anuA37KG"
      },
      "outputs": [],
      "source": [
        "def fit_save(Xs, y, clfs, *model_names):\n",
        "    names = [name for name in model_names]\n",
        "    i = 0\n",
        "    for clf in clfs:\n",
        "        for X in Xs:\n",
        "            print('Starting: ' + names[i])\n",
        "            model = clf.fit(X, y)\n",
        "            write_data(ROOT_PATH + names[i], model)\n",
        "            print('Finished: ' + names[i], end='\\n\\n')\n",
        "            i += 1"
      ]
    },
    {
      "cell_type": "code",
      "source": [
        "def prepare(fraction=1.):\n",
        "    df = load_data(DATASETS + 'train.pkl').sample(frac=fraction)\n",
        "\n",
        "    y = df['sentiment']\n",
        "    bow = prepare_vector(df['text'], VECTORIZERS + 'bow.pkl')\n",
        "    tf_idf = prepare_vector(df['text'], VECTORIZERS + 'tf_idf.pkl')\n",
        "    emb = prepare_emb(df['text'], model_path=GLOVE + 'glove_200d.pkl')\n",
        "\n",
        "    svm_clf = svm.SVC(C = 100.)\n",
        "    rf_clf = RandomForestClassifier(max_depth=10, n_estimators=50)\n",
        "    knn_clf = KNeighborsClassifier()\n",
        "    return y, bow, tf_idf, emb, svm_clf, rf_clf, knn_clf"
      ],
      "metadata": {
        "id": "CD68NfKLW28U"
      },
      "execution_count": null,
      "outputs": []
    },
    {
      "cell_type": "code",
      "source": [
        "# y, bow, tf_idf, emb, svm_clf, rf_clf, knn_clf = prepare()\n",
        "# fit_save([bow], y, [svm_clf], 'svm_bow.pkl')\n",
        "# fit_save([tf_idf], y, [svm_clf], 'svm_tfidf.pkl')\n",
        "# fit_save([bow, tf_idf, emb], y, [rf_clf, knn_clf], 'rf_bow.pkl', 'rf_tfidf.pkl', 'rf_emb.pkl', 'knn_bow.pkl', 'knn_tfidf.pkl', 'knn_emb.pkl')\n",
        "\n",
        "\n",
        "y, bow, tf_idf, emb, svm_clf, rf_clf, knn_clf = prepare(0.35)\n",
        "fit_save([emb], y, [svm_clf], 'svm_emb.pkl')"
      ],
      "metadata": {
        "colab": {
          "base_uri": "https://localhost:8080/"
        },
        "id": "1QwUgNO-W4o1",
        "outputId": "fccf6e58-2fc7-4714-838f-08918e392e59"
      },
      "execution_count": null,
      "outputs": [
        {
          "output_type": "stream",
          "name": "stdout",
          "text": [
            "Starting: svm_emb.pkl\n",
            "Finished: svm_emb.pkl\n",
            "\n"
          ]
        }
      ]
    },
    {
      "cell_type": "markdown",
      "source": [
        "## Evaluating fitted models on the test set"
      ],
      "metadata": {
        "id": "GjFZJc7Xroh8"
      }
    },
    {
      "cell_type": "code",
      "source": [
        "def my_score(y_pred, y_test):\n",
        "    print(classification_report(y_test, y_pred, zero_division=0))\n",
        "\n",
        "def test(model_path, vectorized, y, message=''):\n",
        "    print(message)\n",
        "    clf = load_data(model_path)\n",
        "    y_pred = clf.predict(vectorized)\n",
        "    my_score(y_pred, y)"
      ],
      "metadata": {
        "id": "i1r_zO0erpUX"
      },
      "execution_count": null,
      "outputs": []
    },
    {
      "cell_type": "code",
      "source": [
        "df = load_data(DATASETS + 'test.pkl')\n",
        "y = df['sentiment'].values\n",
        "bow = prepare_vector(df['text'], VECTORIZERS + 'bow.pkl')\n",
        "tf_idf = prepare_vector(df['text'], VECTORIZERS + 'tf_idf.pkl')\n",
        "emb = prepare_emb(df['text'], model_path=GLOVE + 'glove_200d.pkl')"
      ],
      "metadata": {
        "id": "PcEqVSUBr3m-"
      },
      "execution_count": null,
      "outputs": []
    },
    {
      "cell_type": "code",
      "source": [
        "test(ROOT_PATH + 'svm_bow.pkl', bow, y, message='SVM BOW')"
      ],
      "metadata": {
        "colab": {
          "base_uri": "https://localhost:8080/"
        },
        "id": "OCypUv-lr6dE",
        "outputId": "7c1c8382-2eb6-4819-ea51-14c721f6d390"
      },
      "execution_count": null,
      "outputs": [
        {
          "output_type": "stream",
          "name": "stdout",
          "text": [
            "SVM BOW\n",
            "              precision    recall  f1-score   support\n",
            "\n",
            "         NEG       0.52      0.44      0.48      6151\n",
            "         NEU       0.85      0.90      0.88     34248\n",
            "         POS       0.65      0.53      0.58      5243\n",
            "\n",
            "    accuracy                           0.80     45642\n",
            "   macro avg       0.67      0.62      0.65     45642\n",
            "weighted avg       0.78      0.80      0.79     45642\n",
            "\n"
          ]
        }
      ]
    },
    {
      "cell_type": "code",
      "source": [
        "test(ROOT_PATH + 'svm_tfidf.pkl', tf_idf, y, message='SVM TF-IDF')"
      ],
      "metadata": {
        "colab": {
          "base_uri": "https://localhost:8080/"
        },
        "id": "2mjI1fP8r6yC",
        "outputId": "2fdc165f-2a91-4e1e-f586-42e53a978d2c"
      },
      "execution_count": null,
      "outputs": [
        {
          "output_type": "stream",
          "name": "stdout",
          "text": [
            "SVM TF-IDF\n",
            "              precision    recall  f1-score   support\n",
            "\n",
            "         NEG       0.62      0.45      0.52      6151\n",
            "         NEU       0.86      0.93      0.89     34248\n",
            "         POS       0.71      0.56      0.63      5243\n",
            "\n",
            "    accuracy                           0.82     45642\n",
            "   macro avg       0.73      0.65      0.68     45642\n",
            "weighted avg       0.81      0.82      0.81     45642\n",
            "\n"
          ]
        }
      ]
    },
    {
      "cell_type": "code",
      "source": [
        "test(ROOT_PATH + 'svm_emb.pkl', emb, y, message='SVM Word Embeddings')"
      ],
      "metadata": {
        "colab": {
          "base_uri": "https://localhost:8080/"
        },
        "id": "i3dDccVquTNO",
        "outputId": "6a2b3ea9-824c-4fd3-d53c-214aaae75861"
      },
      "execution_count": null,
      "outputs": [
        {
          "output_type": "stream",
          "name": "stdout",
          "text": [
            "SVM Word Embeddings\n",
            "              precision    recall  f1-score   support\n",
            "\n",
            "         NEG       0.64      0.61      0.63      6151\n",
            "         NEU       0.88      0.91      0.89     34248\n",
            "         POS       0.69      0.61      0.65      5243\n",
            "\n",
            "    accuracy                           0.83     45642\n",
            "   macro avg       0.74      0.71      0.72     45642\n",
            "weighted avg       0.83      0.83      0.83     45642\n",
            "\n"
          ]
        }
      ]
    },
    {
      "cell_type": "code",
      "source": [
        "test(ROOT_PATH + 'rf_bow.pkl', bow, y, message='\\nRandom Forests BOW')\n",
        "test(ROOT_PATH + 'rf_tfidf.pkl', tf_idf, y, message='\\nRandom Forests TF-IDF')\n",
        "test(ROOT_PATH + 'rf_emb.pkl', emb, y, message='\\nRandom Forests Word Embeddings')"
      ],
      "metadata": {
        "colab": {
          "base_uri": "https://localhost:8080/"
        },
        "id": "_jK2EQQwr7CT",
        "outputId": "d5a962f1-b118-4ffa-8e44-3efe9887f37d"
      },
      "execution_count": null,
      "outputs": [
        {
          "output_type": "stream",
          "name": "stdout",
          "text": [
            "\n",
            "Random Forests BOW\n",
            "              precision    recall  f1-score   support\n",
            "\n",
            "         NEG       0.97      0.03      0.06      6151\n",
            "         NEU       0.75      1.00      0.86     34248\n",
            "         POS       1.00      0.00      0.01      5243\n",
            "\n",
            "    accuracy                           0.75     45642\n",
            "   macro avg       0.91      0.34      0.31     45642\n",
            "weighted avg       0.81      0.75      0.65     45642\n",
            "\n",
            "\n",
            "Random Forests TF-IDF\n",
            "              precision    recall  f1-score   support\n",
            "\n",
            "         NEG       1.00      0.02      0.05      6151\n",
            "         NEU       0.75      1.00      0.86     34248\n",
            "         POS       1.00      0.00      0.00      5243\n",
            "\n",
            "    accuracy                           0.75     45642\n",
            "   macro avg       0.92      0.34      0.30     45642\n",
            "weighted avg       0.81      0.75      0.65     45642\n",
            "\n",
            "\n",
            "Random Forests Word Embeddings\n",
            "              precision    recall  f1-score   support\n",
            "\n",
            "         NEG       0.87      0.13      0.23      6151\n",
            "         NEU       0.78      0.99      0.87     34248\n",
            "         POS       0.88      0.14      0.24      5243\n",
            "\n",
            "    accuracy                           0.78     45642\n",
            "   macro avg       0.84      0.42      0.45     45642\n",
            "weighted avg       0.80      0.78      0.71     45642\n",
            "\n"
          ]
        }
      ]
    },
    {
      "cell_type": "code",
      "source": [
        "test(ROOT_PATH + 'knn_bow.pkl', bow, y, message='\\nK-NN BOW')\n",
        "test(ROOT_PATH + 'knn_tfidf.pkl', tf_idf, y, message='\\nK-NN TF-IDF')\n",
        "test(ROOT_PATH + 'knn_emb.pkl', emb, y, message='\\nK-NN Word Embeddings')"
      ],
      "metadata": {
        "colab": {
          "base_uri": "https://localhost:8080/"
        },
        "id": "x5Pt4e6Fu2UH",
        "outputId": "3914e1e4-e85a-4379-e233-0c13adf7313f"
      },
      "execution_count": null,
      "outputs": [
        {
          "output_type": "stream",
          "name": "stdout",
          "text": [
            "\n",
            "K-NN BOW\n",
            "              precision    recall  f1-score   support\n",
            "\n",
            "         NEG       0.54      0.24      0.34      6151\n",
            "         NEU       0.80      0.95      0.87     34248\n",
            "         POS       0.71      0.27      0.39      5243\n",
            "\n",
            "    accuracy                           0.78     45642\n",
            "   macro avg       0.68      0.49      0.53     45642\n",
            "weighted avg       0.75      0.78      0.74     45642\n",
            "\n",
            "\n",
            "K-NN TF-IDF\n",
            "              precision    recall  f1-score   support\n",
            "\n",
            "         NEG       0.56      0.33      0.42      6151\n",
            "         NEU       0.82      0.94      0.87     34248\n",
            "         POS       0.70      0.38      0.49      5243\n",
            "\n",
            "    accuracy                           0.79     45642\n",
            "   macro avg       0.69      0.55      0.60     45642\n",
            "weighted avg       0.77      0.79      0.77     45642\n",
            "\n",
            "\n",
            "K-NN Word Embeddings\n",
            "              precision    recall  f1-score   support\n",
            "\n",
            "         NEG       0.58      0.52      0.54      6151\n",
            "         NEU       0.86      0.91      0.88     34248\n",
            "         POS       0.68      0.49      0.57      5243\n",
            "\n",
            "    accuracy                           0.81     45642\n",
            "   macro avg       0.71      0.64      0.67     45642\n",
            "weighted avg       0.80      0.81      0.80     45642\n",
            "\n"
          ]
        }
      ]
    },
    {
      "cell_type": "markdown",
      "source": [
        "| Accuracy        | SVM  | Random Forests | K-NN |\n",
        "|-----------------|------|----------------|------|\n",
        "| BOW             | 0.80 | 0.75           | 0.78 |\n",
        "| TF-IDF          | 0.82 | 0.75           | 0.79 |\n",
        "| Word Embeddings | 0.83 | 0.78           | 0.81 |\n",
        "\n",
        "| F1-Score        | SVM  | Random Forests | K-NN |\n",
        "|-----------------|------|----------------|------|\n",
        "| BOW             | 0.65 | 0.31           | 0.53 |\n",
        "| TF-IDF          | 0.68 | 0.30           | 0.60 |\n",
        "| Word Embeddings | 0.72 | 0.45           | 0.67 |\n",
        "\n",
        "\n",
        "All models are trained on 100% of the training set (exept for SVM + Word Embeddings which is trained on 35% of it) and evaluated on 100% of the test set\n",
        "\n",
        "As expected the performance goes BOW < TF-IDF < Word Embeddings\n",
        "\n",
        "The word embeddings approach althought it gives the best results across all classifiers, it doesn't perform as better as we would expect. This is because the pretrained GLOVE model we use, is in fact trained on tweets, but lacks many covid related words, as well as some common words that appear in the documetns. Therefore since we manage such words by pretending they aren't a part of the tweet, we actually lose some meaning of the sentance. \n",
        "\n",
        "SVM is the best performing classifier, in theory and, as we see, in practice as well. Finding a hyperplane to lineary classify non lineary classifiable data should and does yield very good results in comparison to the other two methods used\n",
        "\n",
        "Ensembling methods are most likely not a good fit for the data and therefore give the worst results.  The nature (High variance, no additive structure) of decision trees in particular seems to be a problem that cannot be overcome with the techniques that constitute the Random Forests algorithm (Bagging, bootstrap aggregation etc). So we get results very close to the minimum (classifying everything as NEU would lead to a 75% accuracy) and this can be clearly seen by the recall and precision scores for positive and negative tweets, which in essence tells us that despite our predictions about them are (almost) always correct, they are not many and we misclassify a lot of positive and negative tweets as neutral. We can think of it as the model only classifying the \"extreme\" tweets and everything that is not that positive or negative to classify it as neutral.\n",
        "\n",
        "K-NN is a relatively simple and naive classifier, but it works decently for the classification problem in hand"
      ],
      "metadata": {
        "id": "D_yfuzaxvVlF"
      }
    },
    {
      "cell_type": "markdown",
      "metadata": {
        "id": "Sa0BqmTIZyYg"
      },
      "source": [
        "# Question 5"
      ]
    },
    {
      "cell_type": "markdown",
      "source": [
        "Train models for different number of topics, choose the one with the largest topics' coherence and show it"
      ],
      "metadata": {
        "id": "Ju89Bid9sudT"
      }
    },
    {
      "cell_type": "code",
      "execution_count": null,
      "metadata": {
        "colab": {
          "base_uri": "https://localhost:8080/",
          "height": 1000
        },
        "id": "MeIegLumZ08V",
        "outputId": "bd4baea7-4fbe-49a2-9d82-190b3f157487"
      },
      "outputs": [
        {
          "output_type": "stream",
          "name": "stdout",
          "text": [
            "Done for  5 topics, score: 0.3357, time: 1min10.93sec\n",
            "Done for  6 topics, score: 0.3726, time: 1min15.94sec\n",
            "Done for  7 topics, score: 0.3990, time: 1min18.74sec\n",
            "Done for  8 topics, score: 0.4024, time: 1min23.08sec\n",
            "Done for  9 topics, score: 0.3929, time: 1min23.77sec\n",
            "Done for 10 topics, score: 0.4195, time: 1min25.19sec\n",
            "Done for 11 topics, score: 0.4198, time: 1min26.93sec\n",
            "Done for 12 topics, score: 0.3863, time: 1min27.72sec\n",
            "Done for 13 topics, score: 0.3827, time: 1min26.66sec\n",
            "Done for 14 topics, score: 0.4041, time: 1min27.25sec\n",
            "Done for 15 topics, score: 0.3808, time: 1min30.48sec\n",
            "Done for 16 topics, score: 0.4150, time: 1min31.30sec\n",
            "Done for 17 topics, score: 0.3558, time: 1min33.37sec\n",
            "Done for 18 topics, score: 0.4121, time: 1min36.68sec\n",
            "Done for 19 topics, score: 0.3949, time: 1min35.67sec\n",
            "Done for 20 topics, score: 0.3680, time: 1min35.85sec\n",
            "Done for 21 topics, score: 0.3635, time: 1min38.12sec\n",
            "Done for 22 topics, score: 0.4015, time: 1min38.24sec\n",
            "Done for 23 topics, score: 0.3724, time: 1min40.50sec\n",
            "Done for 24 topics, score: 0.3636, time: 1min40.36sec\n",
            "Done for 25 topics, score: 0.3664, time: 1min42.18sec\n"
          ]
        },
        {
          "output_type": "display_data",
          "data": {
            "text/plain": [
              "<Figure size 432x288 with 1 Axes>"
            ],
            "image/png": "[encoded data removed]"
          },
          "metadata": {
            "needs_background": "light"
          }
        },
        {
          "output_type": "stream",
          "name": "stdout",
          "text": [
            "\n",
            "Number of topics: 11\n",
            "Coherence Score: 0.4198\n",
            "\n"
          ]
        },
        {
          "output_type": "execute_result",
          "data": {
            "text/plain": [
              "PreparedData(topic_coordinates=              x         y  topics  cluster       Freq\n",
              "topic                                                \n",
              "5      0.058326  0.147628       1        1  17.693451\n",
              "4     -0.413202  0.106366       2        1  13.806737\n",
              "9      0.179501  0.450913       3        1  10.787505\n",
              "0     -0.128221 -0.223631       4        1  10.755689\n",
              "1     -0.255593  0.360078       5        1   9.414248\n",
              "7     -0.172045  0.020433       6        1   8.159253\n",
              "3     -0.412592 -0.226811       7        1   6.981845\n",
              "10     0.385835 -0.067547       8        1   6.301594\n",
              "6      0.408525  0.247261       9        1   6.022670\n",
              "2      0.005638 -0.510129      10        1   5.381410\n",
              "8      0.343827 -0.304561      11        1   4.695597, topic_info=        Term          Freq         Total Category  logprob  loglift\n",
              "55       age  32194.000000  32194.000000  Default  10.0000  10.0000\n",
              "60      slot  33953.000000  33953.000000  Default   9.0000   9.0000\n",
              "110     dose  50953.000000  50953.000000  Default   8.0000   8.0000\n",
              "5     vaccin  74599.000000  74599.000000  Default   7.0000   7.0000\n",
              "448  covaxin  18831.000000  18831.000000  Default   6.0000   6.0000\n",
              "..       ...           ...           ...      ...      ...      ...\n",
              "97    clinic   1985.743646   4864.006980  Topic11  -3.7284   2.1627\n",
              "110     dose   3617.771234  50953.532034  Topic11  -3.1285   0.4135\n",
              "57    hospit   1961.297413  12438.857179  Topic11  -3.7408   1.2113\n",
              "979     road   1061.568116   2783.004555  Topic11  -4.3546   2.0948\n",
              "443   apollo   1055.940222   5150.075086  Topic11  -4.3599   1.4740\n",
              "\n",
              "[221 rows x 6 columns], token_table=      Topic      Freq       Term\n",
              "term                            \n",
              "865      11  0.999209     accept\n",
              "299       9  0.999494        add\n",
              "55        3  0.999928        age\n",
              "55        5  0.000062        age\n",
              "1282      3  0.999328        ago\n",
              "...     ...       ...        ...\n",
              "353       4  0.803997       year\n",
              "353       5  0.195907       year\n",
              "184       1  0.999972  yesterday\n",
              "137       5  0.000672        yet\n",
              "137       7  0.998890        yet\n",
              "\n",
              "[396 rows x 3 columns], R=10, lambda_step=0.01, plot_opts={'xlab': 'PC1', 'ylab': 'PC2'}, topic_order=[6, 5, 10, 1, 2, 8, 4, 11, 7, 3, 9])"
            ],
            "text/html": [
              "\n",
              "<link rel=\"stylesheet\" type=\"text/css\" href=\"https://cdn.jsdelivr.net/gh/bmabey/pyLDAvis@3.3.1/pyLDAvis/js/ldavis.v1.0.0.css\">\n",
              "\n",
              "\n",
              "<div id=\"ldavis_el581407010977887527643804679\"></div>\n",
              "<script type=\"text/javascript\">\n",
              "\n",
              "var ldavis_el581407010977887527643804679_data = {\"mdsDat\": {\"x\": [0.05832570867567253, -0.41320170503116155, 0.1795014381307309, -0.12822126004834603, -0.25559267051070517, -0.17204466380196384, -0.412592258631076, 0.38583488487057943, 0.4085250512819945, 0.0056381284874769825, 0.34382734657679836], \"y\": [0.14762826675365853, 0.10636592195072694, 0.4509131891412339, -0.22363121239672173, 0.3600776525229572, 0.020432928390700943, -0.22681117241298746, -0.06754701006324923, 0.24726139097892066, -0.5101290436046992, -0.30456091126054047], \"topics\": [1, 2, 3, 4, 5, 6, 7, 8, 9, 10, 11], \"cluster\": [1, 1, 1, 1, 1, 1, 1, 1, 1, 1, 1], \"Freq\": [17.693451322525082, 13.806737116095396, 10.787505366811727, 10.75568903373095, 9.414248362156147, 8.159252860812362, 6.981844620935888, 6.301594308006096, 6.022670000787474, 5.381409969811171, 4.695597038327705]}, \"tinfo\": {\"Term\": [\"age\", \"slot\", \"dose\", \"vaccin\", \"covaxin\", \"avail\", \"free\", \"pincod\", \"date\", \"fee\", \"got\", \"fulli\", \"second\", \"booster\", \"done\", \"yesterday\", \"shot\", \"concern\", \"johnson\", \"e\", \"first\", \"nd\", \"thank\", \"pfizer\", \"jab\", \"today\", \"st\", \"vaccin\", \"moderna\", \"get\", \"dose\", \"covid\", \"ocgn\", \"hope\", \"help\", \"possibl\", \"delta\", \"allow\", \"contact\", \"institut\", \"lead\", \"alreadi\", \"go\", \"want\", \"need\", \"let\", \"research\", \"sir\", \"way\", \"u\", \"pleas\", \"know\", \"would\", \"not\", \"take\", \"vaccin\", \"peopl\", \"get\", \"approv\", \"one\", \"pincod\", \"date\", \"fee\", \"r\", \"age\", \"sep\", \"aug\", \"oct\", \"jul\", \"ago\", \"rainbow\", \"covaxin\", \"slot\", \"apollo\", \"hospit\", \"dose\", \"man\", \"old\", \"die\", \"mix\", \"usa\", \"crore\", \"love\", \"market\", \"good\", \"ji\", \"two\", \"anoth\", \"offici\", \"import\", \"price\", \"v\", \"year\", \"sputnik\", \"vaccin\", \"receiv\", \"day\", \"covid\", \"health\", \"emerg\", \"biotech\", \"trial\", \"bharat\", \"use\", \"jayanagar\", \"child\", \"efficaci\", \"drug\", \"list\", \"phase\", \"approv\", \"data\", \"health\", \"india\", \"vaccin\", \"covaxin\", \"side\", \"far\", \"must\", \"columbia\", \"hurt\", \"asia\", \"noth\", \"person\", \"plan\", \"interest\", \"million\", \"effect\", \"donat\", \"suppli\", \"total\", \"boost\", \"do\", \"arriv\", \"china\", \"chines\", \"vaccin\", \"covid\", \"mask\", \"antibodi\", \"wear\", \"student\", \"team\", \"result\", \"tell\", \"symptom\", \"scienc\", \"head\", \"yet\", \"w\", \"ask\", \"not\", \"amp\", \"sec\", \"back\", \"issu\", \"life\", \"long\", \"delay\", \"risk\", \"medium\", \"save\", \"almost\", \"think\", \"watch\", \"heart\", \"drive\", \"cloudnin\", \"plot\", \"great\", \"free\", \"avail\", \"pm\", \"paid\", \"mumbai\", \"tmc\", \"uphc\", \"add\", \"appli\", \"thane\", \"sector\", \"marg\", \"shop\", \"ltd\", \"pain\", \"slot\", \"dose\", \"hospit\", \"pvt\", \"case\", \"report\", \"arm\", \"canada\", \"sore\", \"ontario\", \"open\", \"busi\", \"toronto\", \"embarrass\", \"hour\", \"forc\", \"new\", \"j\", \"pmc\", \"floor\", \"b\", \"check\", \"leader\", \"medicin\", \"credit\", \"join\", \"pune\", \"accept\", \"anti\", \"p\", \"build\", \"clinic\", \"dose\", \"hospit\", \"road\", \"apollo\"], \"Freq\": [32194.0, 33953.0, 50953.0, 74599.0, 18831.0, 10748.0, 10563.0, 11661.0, 11529.0, 10794.0, 12954.289773773153, 3720.229518754819, 8136.71396811937, 4122.5419587830875, 4848.17887251837, 2066.6411670678917, 11947.677171061378, 814.5195440046015, 936.8755563583757, 947.0127841980823, 12985.090893402823, 7095.2626371380875, 6041.538414166537, 3504.412319566176, 5433.881213618667, 8342.407568282302, 5538.693172688368, 29355.44927457518, 6176.5640039902755, 9478.894649077074, 17104.17200335537, 8816.556906930946, 3194.2989086791067, 1917.1727769372258, 1844.9377487900726, 1029.361596283059, 1087.826478532817, 1096.4821054842037, 729.602034858755, 723.366317780752, 753.3882362583107, 1534.826451252344, 4770.135302947695, 2702.0845565173836, 4466.187653546488, 2312.845068512822, 1308.2235971459593, 1224.5032461362878, 1406.9105289920615, 5940.559350425409, 2544.771746968261, 3144.089144663555, 2344.2768568714955, 8347.579178846876, 4128.227989288296, 12319.238128164227, 4045.343502234142, 5351.923316568825, 4895.832587935686, 3357.9144130352074, 11661.52374791352, 11528.835962547011, 10794.301614864726, 10574.54113883669, 32191.80911669835, 3733.4706493483777, 3489.814279212646, 2154.2374304625823, 1892.2409324281064, 869.3460534100112, 1007.9137576455872, 15525.19503802928, 21293.900992369832, 4093.616188362822, 6389.080577076316, 12424.095576949672, 2789.235433052779, 2532.056596739899, 2158.3505299565327, 1256.0130813324502, 1037.9397133060897, 811.1361586859106, 845.1262715594837, 902.0734797503636, 4147.936548678301, 822.8981533889314, 3105.964060819327, 1541.3672236929904, 1356.8110279804782, 1359.0321563900247, 1317.4699707792831, 3893.413441949026, 3829.3089314783138, 2949.93633418519, 17093.35157071103, 3858.835017812657, 3387.0962876577014, 3777.340467096286, 2816.1815872096595, 3452.300057514743, 3176.243840745916, 3536.8309742027996, 2937.1060631986484, 6954.22050185828, 1765.7273201412556, 2316.5224392379005, 2811.722661421514, 1648.4539343253805, 1572.1285381241146, 2176.0110589012675, 8469.922682830127, 2744.970398169572, 2941.4610078475052, 3339.751291377083, 5495.7864756013805, 3305.282952099682, 3735.615260853004, 1725.4367344125862, 906.8159165982223, 769.4479731038349, 654.3311903061418, 722.6378361877528, 596.6150086985994, 654.1135601666057, 907.0552094613251, 660.4480347226504, 3908.049470679993, 8172.616557472227, 1264.4839303082688, 1727.04472361561, 846.7841636780678, 858.095782694083, 8244.70207827133, 1848.1960458523097, 1911.3993151069935, 1443.1685044868364, 8625.43273562847, 2220.1099747177936, 1123.116749093261, 1195.0672491619375, 886.0800686076286, 923.5059312557672, 1167.5248899750184, 1260.436871040317, 1114.8865606907518, 776.5739488642664, 836.7124402464831, 685.6004851404542, 1486.6101193386733, 1588.8968739357135, 1458.776207326673, 3219.765912264508, 2284.503124779773, 1845.9901067137232, 1400.895134411329, 1140.754213935769, 1664.626330856544, 1012.2534408589254, 1139.007305696593, 1114.2005890461733, 701.4124719457545, 631.5356260002791, 599.9562447348544, 1835.567317868667, 848.367784016086, 763.1822281294089, 1063.9627509440297, 1135.6721206728892, 1063.1386109648026, 1354.3863748016577, 10562.970862744747, 10748.2746428363, 6254.984489925879, 4197.353296305479, 935.4206596895262, 712.4613305837363, 649.9634516015859, 555.0472815480855, 507.9984745096539, 582.0531142836234, 848.6701111041589, 880.5196671535165, 674.6446465602315, 779.1385532488439, 781.9915065767972, 12659.467524487261, 16894.57843020488, 3946.176142562894, 1008.3246523758742, 4275.013951862733, 4477.068587657296, 3409.8348751102126, 2999.176599140658, 2298.2761434196846, 2049.6291726471036, 1705.279566029385, 1656.961608614023, 1149.052963580841, 1099.6711104554877, 2186.271728975247, 1205.3082021213029, 1770.453695514411, 1767.7463972570506, 1493.617807531763, 1315.8272348688909, 2504.3711920483534, 966.5120200017992, 584.2800654482768, 642.6401858853204, 509.3141095963563, 627.9237951922796, 530.0427476393829, 762.1347033888569, 547.2453713168741, 2982.243987227779, 706.8133933856128, 1985.7436456119403, 3617.7712342711507, 1961.2974130125624, 1061.5681158677444, 1055.9402217063628], \"Total\": [32194.0, 33953.0, 50953.0, 74599.0, 18831.0, 10748.0, 10563.0, 11661.0, 11529.0, 10794.0, 12954.813559524831, 3720.611496853147, 8137.741208575461, 4123.235219239526, 4849.007201415906, 2067.057961159379, 11950.367997397458, 814.7534736463804, 937.1623204718377, 947.3515897281484, 13028.43663963729, 7097.966342611276, 6080.128053699715, 3513.6235777923016, 5522.519355045975, 8678.542462739792, 6219.678845287085, 74599.33135466318, 7374.530744873182, 15722.515522475416, 50953.53203359884, 17440.06030808354, 3194.7969098040244, 1917.6305936465433, 1845.4471737659085, 1029.6851427965078, 1088.1703377049118, 1096.8504658129311, 729.8850983118283, 723.6734871891416, 753.7126844892148, 1535.4902034150227, 4790.621664995154, 2704.975229010007, 4513.091085148537, 2325.692030445668, 1308.875267180328, 1225.1731557966327, 1411.3457370207614, 6630.531685212916, 2675.1838052859957, 3441.054772223742, 2471.9074625039393, 12044.014850889644, 5913.338337240495, 74599.33135466318, 7659.367811605614, 15722.515522475416, 13366.516904508708, 6763.9944489516565, 11661.837271237531, 11529.157439604272, 10794.612476456694, 10575.123870159872, 32194.312505832157, 3733.7703104060615, 3490.1333700656905, 2154.5456584895346, 1892.5185119394312, 869.5846241653778, 1008.2504320742377, 18831.673706348523, 33953.99590227414, 5150.075086366169, 12438.857179264629, 50953.53203359884, 2789.551336178209, 2532.385421024931, 2158.7287218039023, 1256.3202681067278, 1038.2209543362617, 811.3717970126411, 845.3802427358339, 902.3510819807242, 4149.215692448425, 823.1804066112835, 3120.471927263542, 1542.1184990004845, 1357.5908859721478, 1366.3066359761854, 1345.8049644025195, 4768.8835966232355, 4762.457332878283, 3799.131570324289, 74599.33135466318, 7421.05745447042, 7498.787229006035, 17440.06030808354, 5761.125763518397, 3452.6317065685284, 3176.5707578832, 3537.2024942595926, 2937.4356483964193, 6955.258808972266, 1765.9911666859214, 2316.889114399169, 2812.212937483623, 1648.8415258025939, 1572.516963097827, 2337.1445514811085, 13366.516904508708, 3433.47983391584, 5761.125763518397, 9103.182467729765, 74599.33135466318, 18831.673706348523, 3735.9684466796834, 1725.8830629362071, 907.0889628230511, 769.7329636281719, 654.5799641091171, 722.9236789555063, 596.8824330760825, 654.4097060963446, 907.4810062702816, 660.7712869811912, 3915.1327909111073, 8280.682615645332, 1265.6149175713256, 1740.5471097561497, 847.2988590666602, 858.8977245900094, 9470.796371178969, 2031.3314740004232, 3563.1037558165235, 2204.8662805613503, 74599.33135466318, 17440.06030808354, 1123.4488807129978, 1195.4259801225164, 886.3722559628139, 923.8152360970753, 1167.9310718402276, 1260.8843348601663, 1115.2904003387061, 776.8611169821163, 837.0240171294316, 685.8641375913253, 1488.6518584793864, 1593.913280324195, 1482.9866339702035, 12044.014850889644, 10751.765754473683, 1846.2774425517648, 1401.1515799198564, 1141.0703766227725, 1665.166747704191, 1012.5998455751018, 1139.428507829934, 1114.6444830241146, 701.7093596487606, 631.8029994091621, 600.21032364372, 1843.0467412385183, 848.7968854893926, 763.5347004992652, 1069.471592380271, 1145.7880242437766, 1075.406407529644, 2179.7218293347173, 10563.287038442964, 10748.656465461809, 6255.380141194968, 4197.63939369579, 935.725817748113, 712.7327711474115, 650.2325403609404, 555.2810642782838, 508.23066985255514, 582.3289100599518, 849.1372316803851, 881.8593359785021, 675.1554334973063, 781.9833457614028, 789.5842114339544, 33953.99590227414, 50953.53203359884, 12438.857179264629, 1279.3456007357252, 4275.381580750201, 4477.516185485284, 3410.1902777441783, 2999.528774801913, 2298.5990915412876, 2049.9198975956, 1705.5855424951067, 1657.2677330729573, 1149.329893864427, 1099.9396251818364, 2190.763272720415, 1205.6611898300628, 4225.479074485963, 1768.084608777001, 1493.939800100876, 1316.159553632651, 2505.265491704569, 966.8907239285052, 584.5279459563023, 642.9424588906354, 509.56299951413314, 628.2374528201558, 530.319659143873, 762.6035131010001, 547.5662455376348, 5149.361135384884, 768.032737476269, 4864.006979884011, 50953.53203359884, 12438.857179264629, 2783.0045553872487, 5150.075086366169], \"Category\": [\"Default\", \"Default\", \"Default\", \"Default\", \"Default\", \"Default\", \"Default\", \"Default\", \"Default\", \"Default\", \"Topic1\", \"Topic1\", \"Topic1\", \"Topic1\", \"Topic1\", \"Topic1\", \"Topic1\", \"Topic1\", \"Topic1\", \"Topic1\", \"Topic1\", \"Topic1\", \"Topic1\", \"Topic1\", \"Topic1\", \"Topic1\", \"Topic1\", \"Topic1\", \"Topic1\", \"Topic1\", \"Topic1\", \"Topic1\", \"Topic2\", \"Topic2\", \"Topic2\", \"Topic2\", \"Topic2\", \"Topic2\", \"Topic2\", \"Topic2\", \"Topic2\", \"Topic2\", \"Topic2\", \"Topic2\", \"Topic2\", \"Topic2\", \"Topic2\", \"Topic2\", \"Topic2\", \"Topic2\", \"Topic2\", \"Topic2\", \"Topic2\", \"Topic2\", \"Topic2\", \"Topic2\", \"Topic2\", \"Topic2\", \"Topic2\", \"Topic2\", \"Topic3\", \"Topic3\", \"Topic3\", \"Topic3\", \"Topic3\", \"Topic3\", \"Topic3\", \"Topic3\", \"Topic3\", \"Topic3\", \"Topic3\", \"Topic3\", \"Topic3\", \"Topic3\", \"Topic3\", \"Topic3\", \"Topic4\", \"Topic4\", \"Topic4\", \"Topic4\", \"Topic4\", \"Topic4\", \"Topic4\", \"Topic4\", \"Topic4\", \"Topic4\", \"Topic4\", \"Topic4\", \"Topic4\", \"Topic4\", \"Topic4\", \"Topic4\", \"Topic4\", \"Topic4\", \"Topic4\", \"Topic4\", \"Topic4\", \"Topic4\", \"Topic4\", \"Topic5\", \"Topic5\", \"Topic5\", \"Topic5\", \"Topic5\", \"Topic5\", \"Topic5\", \"Topic5\", \"Topic5\", \"Topic5\", \"Topic5\", \"Topic5\", \"Topic5\", \"Topic5\", \"Topic5\", \"Topic5\", \"Topic5\", \"Topic6\", \"Topic6\", \"Topic6\", \"Topic6\", \"Topic6\", \"Topic6\", \"Topic6\", \"Topic6\", \"Topic6\", \"Topic6\", \"Topic6\", \"Topic6\", \"Topic6\", \"Topic6\", \"Topic6\", \"Topic6\", \"Topic6\", \"Topic6\", \"Topic6\", \"Topic6\", \"Topic6\", \"Topic6\", \"Topic7\", \"Topic7\", \"Topic7\", \"Topic7\", \"Topic7\", \"Topic7\", \"Topic7\", \"Topic7\", \"Topic7\", \"Topic7\", \"Topic7\", \"Topic7\", \"Topic7\", \"Topic7\", \"Topic7\", \"Topic8\", \"Topic8\", \"Topic8\", \"Topic8\", \"Topic8\", \"Topic8\", \"Topic8\", \"Topic8\", \"Topic8\", \"Topic8\", \"Topic8\", \"Topic8\", \"Topic8\", \"Topic8\", \"Topic8\", \"Topic8\", \"Topic8\", \"Topic9\", \"Topic9\", \"Topic9\", \"Topic9\", \"Topic9\", \"Topic9\", \"Topic9\", \"Topic9\", \"Topic9\", \"Topic9\", \"Topic9\", \"Topic9\", \"Topic9\", \"Topic9\", \"Topic9\", \"Topic9\", \"Topic9\", \"Topic9\", \"Topic9\", \"Topic10\", \"Topic10\", \"Topic10\", \"Topic10\", \"Topic10\", \"Topic10\", \"Topic10\", \"Topic10\", \"Topic10\", \"Topic10\", \"Topic10\", \"Topic10\", \"Topic10\", \"Topic11\", \"Topic11\", \"Topic11\", \"Topic11\", \"Topic11\", \"Topic11\", \"Topic11\", \"Topic11\", \"Topic11\", \"Topic11\", \"Topic11\", \"Topic11\", \"Topic11\", \"Topic11\", \"Topic11\", \"Topic11\", \"Topic11\", \"Topic11\", \"Topic11\"], \"logprob\": [10.0, 9.0, 8.0, 7.0, 6.0, 5.0, 4.0, 3.0, 2.0, 1.0, -3.1795, -4.4272, -3.6446, -4.3245, -4.1623, -5.015, -3.2604, -5.9461, -5.8061, -5.7954, -3.1771, -3.7815, -3.9423, -4.4869, -4.0483, -3.6196, -4.0292, -2.3615, -3.9202, -3.4919, -2.9016, -3.5643, -4.3315, -4.8421, -4.8805, -5.464, -5.4087, -5.4008, -5.8082, -5.8167, -5.7761, -5.0645, -3.9305, -4.4989, -3.9964, -4.6544, -5.2242, -5.2904, -5.1515, -3.7111, -4.5589, -4.3474, -4.6409, -3.3709, -4.0751, -2.9817, -4.0953, -3.8154, -3.9045, -4.2816, -2.7898, -2.8013, -2.8671, -2.8877, -1.7744, -3.9288, -3.9963, -4.4787, -4.6084, -5.3862, -5.2383, -2.5037, -2.1877, -3.8367, -3.3915, -2.7265, -4.2174, -4.3142, -4.4738, -5.0152, -5.2059, -5.4525, -5.4115, -5.3462, -3.8206, -5.4381, -4.1099, -4.8105, -4.938, -4.9364, -4.9675, -3.8839, -3.9005, -4.1614, -2.4045, -3.8928, -4.0232, -3.9142, -4.2078, -3.8709, -3.9543, -3.8467, -4.0325, -3.1706, -4.5414, -4.2699, -4.0762, -4.6101, -4.6575, -4.3325, -2.9735, -4.1002, -4.0311, -3.9041, -3.406, -3.9145, -3.649, -4.4214, -5.0647, -5.229, -5.391, -5.2917, -5.4834, -5.3914, -5.0645, -5.3817, -3.6039, -2.8661, -4.7322, -4.4205, -5.1332, -5.1199, -2.8573, -4.3527, -4.3191, -4.6001, -2.8122, -4.1693, -4.695, -4.6329, -4.932, -4.8906, -4.6562, -4.5796, -4.7023, -5.0639, -4.9893, -5.1885, -4.4146, -4.348, -4.4335, -3.6418, -3.9849, -4.0955, -4.3714, -4.5769, -4.199, -4.6964, -4.5784, -4.6004, -5.0632, -5.1682, -5.2195, -4.1012, -4.873, -4.9788, -4.6466, -4.5813, -4.6473, -4.4052, -2.3059, -2.2885, -2.8299, -3.2288, -4.73, -5.0023, -5.0941, -5.252, -5.3406, -5.2045, -4.8274, -4.7905, -5.0568, -4.9128, -4.9092, -2.1249, -1.8363, -3.2905, -4.655, -3.0979, -3.0517, -3.324, -3.4524, -3.7185, -3.833, -4.017, -4.0457, -4.4118, -4.4557, -3.7685, -4.364, -3.9795, -3.8447, -4.0132, -4.1399, -3.4963, -4.4484, -4.9517, -4.8565, -5.0891, -4.8797, -5.0492, -4.686, -5.0172, -3.3217, -4.7614, -3.7284, -3.1285, -3.7408, -4.3546, -4.3599], \"loglift\": [10.0, 9.0, 8.0, 7.0, 6.0, 5.0, 4.0, 3.0, 2.0, 1.0, 1.7319, 1.7319, 1.7318, 1.7318, 1.7318, 1.7318, 1.7318, 1.7317, 1.7317, 1.7316, 1.7286, 1.7316, 1.7256, 1.7294, 1.7158, 1.6925, 1.616, 0.7993, 1.5547, 1.2259, 0.6404, 1.0498, 1.9799, 1.9798, 1.9797, 1.9797, 1.9797, 1.9797, 1.9796, 1.9796, 1.9796, 1.9796, 1.9757, 1.9789, 1.9696, 1.9745, 1.9795, 1.9795, 1.9769, 1.8701, 1.93, 1.8898, 1.927, 1.6134, 1.6207, 0.179, 1.3417, 0.9024, 0.9756, 1.2797, 2.2268, 2.2268, 2.2268, 2.2267, 2.2267, 2.2267, 2.2267, 2.2266, 2.2266, 2.2265, 2.2264, 2.0337, 1.7602, 1.9972, 1.5605, 0.8155, 2.2296, 2.2296, 2.2296, 2.2295, 2.2295, 2.2294, 2.2294, 2.2294, 2.2294, 2.2294, 2.2251, 2.2292, 2.2292, 2.2244, 2.2085, 2.0269, 2.0117, 1.9767, 0.7563, 1.5758, 1.435, 0.7, 1.514, 2.3628, 2.3628, 2.3628, 2.3628, 2.3628, 2.3628, 2.3628, 2.3628, 2.3627, 2.3627, 2.2915, 1.9067, 2.1391, 1.6907, 1.3602, -0.2452, 0.6229, 2.5059, 2.5058, 2.5057, 2.5056, 2.5056, 2.5056, 2.5056, 2.5056, 2.5055, 2.5055, 2.5042, 2.4929, 2.5051, 2.4982, 2.5054, 2.5051, 2.3674, 2.4115, 1.8832, 2.0822, 0.3486, 0.4448, 2.6616, 2.6616, 2.6615, 2.6615, 2.6615, 2.6615, 2.6615, 2.6615, 2.6615, 2.6615, 2.6605, 2.6587, 2.6454, 1.3426, 1.1129, 2.7642, 2.7642, 2.7641, 2.764, 2.764, 2.764, 2.764, 2.7639, 2.7639, 2.7639, 2.7603, 2.7639, 2.7639, 2.7592, 2.7555, 2.7529, 2.2885, 2.8096, 2.8096, 2.8096, 2.8096, 2.8093, 2.8093, 2.8092, 2.8092, 2.8092, 2.8092, 2.8091, 2.8081, 2.8089, 2.806, 2.8, 1.823, 1.7057, 1.6616, 2.5716, 2.9221, 2.9221, 2.9221, 2.9221, 2.9221, 2.9221, 2.922, 2.922, 2.922, 2.922, 2.9202, 2.9219, 2.0523, 3.0584, 3.0583, 3.0583, 3.0582, 3.0582, 3.0581, 3.0581, 3.0581, 3.058, 3.058, 3.0579, 3.058, 2.5123, 2.9755, 2.1627, 0.4135, 1.2113, 2.0948, 1.474]}, \"token.table\": {\"Topic\": [11, 9, 3, 5, 3, 2, 8, 2, 1, 2, 3, 4, 5, 6, 7, 8, 9, 10, 11, 4, 11, 7, 3, 11, 9, 2, 5, 10, 1, 4, 5, 6, 6, 2, 7, 3, 9, 11, 8, 5, 5, 6, 1, 9, 11, 10, 10, 10, 11, 5, 4, 5, 6, 1, 5, 6, 3, 5, 11, 1, 8, 6, 1, 2, 3, 5, 1, 2, 4, 5, 6, 7, 8, 10, 11, 11, 4, 2, 5, 7, 3, 1, 4, 6, 8, 10, 8, 2, 4, 1, 4, 6, 5, 6, 1, 1, 2, 3, 4, 6, 7, 8, 9, 10, 11, 8, 9, 5, 1, 1, 2, 4, 5, 6, 5, 10, 5, 6, 3, 1, 4, 11, 10, 9, 1, 1, 2, 4, 5, 6, 7, 8, 10, 11, 2, 8, 4, 7, 1, 2, 4, 8, 7, 4, 5, 7, 8, 2, 2, 1, 3, 9, 10, 11, 8, 10, 6, 1, 4, 7, 8, 2, 4, 5, 6, 2, 6, 8, 11, 1, 4, 6, 7, 8, 5, 4, 1, 11, 3, 1, 2, 6, 7, 8, 2, 11, 1, 2, 8, 8, 5, 8, 4, 3, 9, 4, 1, 9, 4, 7, 11, 8, 4, 6, 4, 1, 2, 4, 5, 6, 7, 8, 9, 6, 1, 9, 1, 2, 6, 7, 1, 2, 3, 4, 5, 6, 7, 8, 9, 10, 11, 1, 2, 4, 5, 6, 7, 8, 10, 11, 6, 2, 3, 4, 4, 1, 2, 4, 6, 7, 8, 10, 10, 3, 9, 11, 9, 1, 9, 1, 2, 3, 4, 5, 6, 7, 8, 9, 10, 11, 6, 1, 2, 6, 7, 5, 11, 3, 6, 1, 2, 7, 8, 1, 8, 9, 11, 2, 4, 6, 10, 11, 11, 3, 6, 9, 3, 3, 1, 4, 6, 10, 2, 7, 8, 3, 8, 9, 11, 8, 7, 8, 1, 9, 3, 9, 1, 10, 6, 2, 3, 9, 10, 3, 4, 1, 7, 9, 10, 11, 7, 6, 7, 7, 1, 2, 4, 6, 7, 8, 10, 11, 7, 7, 9, 1, 2, 8, 8, 11, 9, 1, 4, 7, 10, 10, 6, 5, 2, 4, 1, 2, 5, 7, 9, 4, 5, 3, 4, 1, 2, 3, 4, 5, 6, 7, 8, 9, 10, 11, 3, 7, 2, 6, 8, 1, 2, 7, 1, 2, 7, 4, 5, 1, 5, 7], \"Freq\": [0.9992086148429267, 0.9994938342105198, 0.9999281703614035, 6.212277400356632e-05, 0.9993276972141281, 0.9992246292093236, 0.9996495834286169, 0.9996807511933762, 0.23949554508556634, 0.293347164737816, 9.300797867400634e-05, 0.06389648134904236, 0.026879305836787833, 0.04575992550761112, 0.21252323127010447, 0.07384833506716103, 0.00018601595734801267, 0.008835757974030602, 0.03506400796010039, 0.9992746997061449, 0.9989658866990991, 0.9996436583028983, 0.7949398661852671, 0.20504555415037665, 0.9995461315771792, 0.3662883932274468, 0.6336729351790183, 0.999944203188479, 0.0004922879465017296, 0.08861183037031134, 0.0009845758930034593, 0.9097481251351964, 1.0001055727550714, 0.016183557862384762, 0.983825455050807, 0.9999617865417882, 0.9999389258123638, 0.9994948672271425, 0.9998918176148615, 0.9998516909139245, 0.9998203226288024, 0.9989547945415295, 0.9999429527477772, 0.0794236977455467, 0.9205336771492052, 0.9998384491125879, 0.9998237140425672, 0.9999107493113788, 1.0001130180161941, 1.000047859692612, 0.21582307243920698, 0.247536995957582, 0.5363301579080944, 0.0004535422437252766, 0.3446921052312102, 0.6544614576955741, 0.2534947020222826, 0.33819852783994714, 0.40830533513078116, 0.008727617838910498, 0.9914573865002327, 0.9990477689500044, 1.0003025778491208, 1.0001574243513636, 0.8244089315739482, 0.17550219123039607, 0.5055601783620717, 0.0038990690857004504, 0.2165703520101559, 0.14535500194486237, 0.12729313779786763, 0.0002866962563015037, 0.0009174280201648118, 5.733925126030074e-05, 5.733925126030074e-05, 0.9988951326633411, 0.9995417673944177, 0.0002912497082761406, 0.7994804492180059, 0.20008854958570857, 0.999986344222889, 0.4958135077654179, 0.4516730367943707, 0.0016002587663219512, 0.003333872429837398, 0.04747434340088455, 0.9996239274101101, 0.999843464116775, 0.9996624301161411, 0.0001055877416014505, 0.12934498346177686, 0.8705709295039593, 0.0007901297512508527, 0.9987240055810779, 0.9997922870859809, 0.33567839789244824, 1.962572485339384e-05, 0.24383000557856507, 1.962572485339384e-05, 1.962572485339384e-05, 1.962572485339384e-05, 0.017859409616588395, 0.3315766213980889, 1.962572485339384e-05, 0.07100587251957892, 0.9948838357004948, 0.004675205994833152, 0.9994896260256521, 0.9996288709155496, 0.0002415259819548265, 0.011230958160899434, 0.001328392900751546, 0.00012076299097741325, 0.9869959252583985, 0.9999242811663424, 1.0000548892109906, 0.9998170362140489, 0.9994883413858267, 0.9999432609129758, 0.9966660129040241, 0.0032237175619537167, 0.9998787733354891, 0.9994515956591785, 0.9999728267875407, 0.999835646142129, 0.6028933465799237, 0.3404035437172435, 0.0039433893330472905, 0.042168824642102476, 0.0001908091612764818, 0.002925740472906054, 0.0073143511822651355, 6.360305375882726e-05, 6.360305375882726e-05, 0.9956954093983594, 0.0041748235194899765, 0.9997070066878814, 0.00024100940373381904, 0.9999372002135659, 0.37390092122385626, 0.004587741364709893, 0.6211801807817194, 1.000198089390053, 0.48879335664428036, 0.5104905049328227, 0.0003471543726166764, 0.999299703734597, 0.9997576881244474, 0.99967115999889, 0.011255053256289308, 0.513632394674517, 0.31723171535226863, 8.039323754492363e-05, 0.15765113882559523, 0.0018258476622318653, 0.9978257474097144, 0.9991139904352153, 0.0007319001267131589, 0.994652272203183, 0.0014638002534263178, 0.0029276005068526356, 0.32944522540674925, 0.30297096754645364, 0.36690465250368204, 0.0005492584618318594, 0.9990693493667185, 0.9988327474326026, 0.9999383240296004, 0.9999521466469529, 0.9839712005780307, 0.0005432303278862886, 0.00036215355192419237, 0.012313220765422541, 0.002535074863469347, 1.0000050019016207, 0.9997808419517343, 0.9998267957766847, 0.9996220333265872, 0.9997260201492562, 0.01075251701852138, 0.9136733380062493, 0.002615477112613309, 0.06945544776828676, 0.0029060856806814544, 0.9990544347947418, 0.9990967994602232, 0.0021498977227186263, 0.9945426865296366, 0.0030098568118060768, 0.9998998612574861, 0.9996712511788689, 0.9994076183423067, 0.9995502109978306, 0.002557599226173592, 0.996184898594614, 0.9998023566832921, 0.0011339676966626545, 0.9990255407597985, 0.9996109252953368, 0.9996004440249093, 1.0000894965149196, 0.9989890976384929, 0.001787934247402883, 0.9981781484072096, 0.9997450744727613, 0.8376126174935656, 0.00040680554516443204, 0.00013560184838814403, 0.00013560184838814403, 0.16109499588511508, 0.00027120369677628806, 0.0005424073935525761, 0.9992243264700554, 0.9999019249194983, 0.9995820855625268, 0.00028177084864341843, 0.000443155248202613, 0.9895656692364349, 0.0002215776241013065, 0.00952783783635618, 0.023192636449612964, 0.1223529902494888, 0.00023665955560829555, 0.23287300271856284, 0.042598720009493204, 0.004733191112165911, 0.0802275893512122, 0.03833884800854388, 0.03620891200806922, 0.4188874134266831, 0.00023665955560829555, 0.0005812015417336469, 0.6931243529132121, 0.013284606668197642, 8.302879167623527e-05, 0.020092967585648935, 0.26735270919747756, 0.0048986987088978804, 8.302879167623527e-05, 0.0004151439583811763, 1.0001969683096745, 0.9997505601055332, 0.9997467408094209, 0.9995647540225459, 0.9998478031733514, 0.34816705095980655, 0.4964522110925819, 0.11605568365326885, 0.031638109938598134, 0.002069782893179317, 0.00547014050340248, 1.0000390758704738, 0.9996566912180493, 0.25420629192327177, 0.16642841266481584, 0.579100964488309, 0.9998476777932019, 0.008865425496904738, 0.9903946769399292, 0.045304000086563184, 0.5281114707497062, 0.00013055907805925988, 0.11841708379974872, 0.0009139135464148192, 0.06306003470262253, 0.1109752163503709, 0.13264802330820805, 0.00013055907805925988, 0.00013055907805925988, 0.00013055907805925988, 0.9993739302878183, 0.9972610675050319, 0.0008538194071104725, 0.0008538194071104725, 0.0005692129380736483, 0.9310506697675216, 0.06888748062158594, 1.0000139539558548, 0.9994699544486794, 0.006728509631537514, 0.9513365006812763, 0.040744863879866054, 0.000747612181281946, 0.011158572160236283, 0.9884635171942641, 0.999939229721234, 1.0000402960675656, 0.9993346094179363, 0.9785964793083464, 0.0037152485926664628, 0.0007430497185332926, 0.016347093807732437, 0.999397233086948, 0.0023449488537536393, 0.2094820976019918, 0.7879028148612228, 0.999988286646909, 0.9997516171912543, 0.41503519126436866, 0.5200067542497399, 0.06481556071368874, 0.9998847161095794, 0.9993312829707498, 0.9992986391886102, 0.9994218039617744, 0.2594318426832526, 0.22493675002730765, 0.1340278079236194, 0.3816019625063909, 1.0003118069889223, 0.9999713065229431, 0.9998497286781659, 0.9999089171606145, 0.999838386923497, 0.999793691003457, 0.9997697811650554, 0.9998018473240344, 8.367943148008323e-05, 1.0000084458208807, 0.9998586683067504, 0.6271426803869582, 0.3728279886831269, 0.9997393666675097, 0.22320890558881482, 0.7764932446780705, 0.8905604513964793, 0.00016078000566825768, 0.00016078000566825768, 0.00016078000566825768, 0.10884806383741046, 1.0002000009262733, 0.9922167520314646, 0.007468915909906798, 1.0001787745773958, 0.24791410813880813, 0.6980828365600272, 0.011330317356957807, 0.0006764368571318094, 0.0011837644999806664, 0.03906422849936199, 0.0005073276428488571, 0.0008455460714147618, 1.00005901731826, 0.999739619081615, 0.9994351816400152, 0.9937290706111832, 0.0057564577079429686, 0.0004934106606808258, 0.9961765802891234, 0.0037980588573114727, 0.9989718851481575, 0.961221315193802, 0.0009218137762587408, 0.0003456801660970278, 0.037218231216446664, 0.9997129685165346, 0.9996472802205949, 0.99994275299197, 0.004166036517239296, 0.9953622632727117, 0.001357357211650365, 0.8960065771572021, 0.10029361619416587, 0.002262262019417275, 0.999642373540993, 0.9997871798528638, 0.9998190133527969, 0.18348109830560186, 0.8163336179470949, 0.3935021865067297, 0.1651355283793699, 2.680989177358063e-05, 0.22913074004290684, 0.07367358259379957, 0.11561765827356646, 0.014919704771997621, 0.007694438939017641, 4.021483766037094e-05, 0.00014745440475469345, 8.042967532074189e-05, 0.0025095468174946237, 0.9969174732497393, 0.998900090108738, 0.0007393783050397765, 0.9990611587966265, 0.0028341744301744816, 0.9969208558138739, 0.9995800229978886, 0.0004045458882134049, 0.948255561972221, 0.050568236026675616, 0.8039967042992635, 0.19590726693946536, 0.9999719595867809, 0.0006717487331265419, 0.9988903661591678], \"Term\": [\"accept\", \"add\", \"age\", \"age\", \"ago\", \"allow\", \"almost\", \"alreadi\", \"amp\", \"amp\", \"amp\", \"amp\", \"amp\", \"amp\", \"amp\", \"amp\", \"amp\", \"amp\", \"amp\", \"anoth\", \"anti\", \"antibodi\", \"apollo\", \"apollo\", \"appli\", \"approv\", \"approv\", \"arm\", \"arriv\", \"arriv\", \"arriv\", \"arriv\", \"asia\", \"ask\", \"ask\", \"aug\", \"avail\", \"b\", \"back\", \"bharat\", \"biotech\", \"boost\", \"booster\", \"build\", \"build\", \"busi\", \"canada\", \"case\", \"check\", \"child\", \"china\", \"china\", \"china\", \"chines\", \"chines\", \"chines\", \"clinic\", \"clinic\", \"clinic\", \"cloudnin\", \"cloudnin\", \"columbia\", \"concern\", \"contact\", \"covaxin\", \"covaxin\", \"covid\", \"covid\", \"covid\", \"covid\", \"covid\", \"covid\", \"covid\", \"covid\", \"covid\", \"credit\", \"crore\", \"data\", \"data\", \"data\", \"date\", \"day\", \"day\", \"day\", \"day\", \"day\", \"delay\", \"delta\", \"die\", \"do\", \"do\", \"do\", \"donat\", \"donat\", \"done\", \"dose\", \"dose\", \"dose\", \"dose\", \"dose\", \"dose\", \"dose\", \"dose\", \"dose\", \"dose\", \"drive\", \"drive\", \"drug\", \"e\", \"effect\", \"effect\", \"effect\", \"effect\", \"effect\", \"efficaci\", \"embarrass\", \"emerg\", \"far\", \"fee\", \"first\", \"first\", \"floor\", \"forc\", \"free\", \"fulli\", \"get\", \"get\", \"get\", \"get\", \"get\", \"get\", \"get\", \"get\", \"get\", \"go\", \"go\", \"good\", \"good\", \"got\", \"great\", \"great\", \"great\", \"head\", \"health\", \"health\", \"health\", \"heart\", \"help\", \"hope\", \"hospit\", \"hospit\", \"hospit\", \"hospit\", \"hospit\", \"hour\", \"hour\", \"hurt\", \"import\", \"import\", \"import\", \"import\", \"india\", \"india\", \"india\", \"india\", \"institut\", \"interest\", \"issu\", \"j\", \"jab\", \"jab\", \"jab\", \"jab\", \"jab\", \"jayanagar\", \"ji\", \"johnson\", \"join\", \"jul\", \"know\", \"know\", \"know\", \"know\", \"know\", \"lead\", \"leader\", \"let\", \"let\", \"let\", \"life\", \"list\", \"long\", \"love\", \"ltd\", \"ltd\", \"man\", \"marg\", \"marg\", \"market\", \"mask\", \"medicin\", \"medium\", \"million\", \"million\", \"mix\", \"moderna\", \"moderna\", \"moderna\", \"moderna\", \"moderna\", \"moderna\", \"moderna\", \"mumbai\", \"must\", \"nd\", \"nd\", \"need\", \"need\", \"need\", \"need\", \"new\", \"new\", \"new\", \"new\", \"new\", \"new\", \"new\", \"new\", \"new\", \"new\", \"new\", \"not\", \"not\", \"not\", \"not\", \"not\", \"not\", \"not\", \"not\", \"not\", \"noth\", \"ocgn\", \"oct\", \"offici\", \"old\", \"one\", \"one\", \"one\", \"one\", \"one\", \"one\", \"ontario\", \"open\", \"p\", \"p\", \"p\", \"paid\", \"pain\", \"pain\", \"peopl\", \"peopl\", \"peopl\", \"peopl\", \"peopl\", \"peopl\", \"peopl\", \"peopl\", \"peopl\", \"peopl\", \"peopl\", \"person\", \"pfizer\", \"pfizer\", \"pfizer\", \"pfizer\", \"phase\", \"phase\", \"pincod\", \"plan\", \"pleas\", \"pleas\", \"pleas\", \"pleas\", \"plot\", \"plot\", \"pm\", \"pmc\", \"possibl\", \"price\", \"price\", \"price\", \"price\", \"pune\", \"pvt\", \"pvt\", \"pvt\", \"r\", \"rainbow\", \"receiv\", \"receiv\", \"receiv\", \"report\", \"research\", \"result\", \"risk\", \"road\", \"road\", \"road\", \"road\", \"save\", \"scienc\", \"sec\", \"second\", \"sector\", \"sep\", \"shop\", \"shot\", \"shot\", \"side\", \"sir\", \"slot\", \"slot\", \"sore\", \"sputnik\", \"sputnik\", \"st\", \"st\", \"st\", \"st\", \"st\", \"student\", \"suppli\", \"suppli\", \"symptom\", \"take\", \"take\", \"take\", \"take\", \"take\", \"take\", \"take\", \"take\", \"team\", \"tell\", \"thane\", \"thank\", \"thank\", \"thank\", \"think\", \"think\", \"tmc\", \"today\", \"today\", \"today\", \"today\", \"toronto\", \"total\", \"trial\", \"two\", \"two\", \"u\", \"u\", \"u\", \"u\", \"uphc\", \"usa\", \"use\", \"v\", \"v\", \"vaccin\", \"vaccin\", \"vaccin\", \"vaccin\", \"vaccin\", \"vaccin\", \"vaccin\", \"vaccin\", \"vaccin\", \"vaccin\", \"vaccin\", \"w\", \"w\", \"want\", \"want\", \"watch\", \"way\", \"way\", \"wear\", \"would\", \"would\", \"would\", \"year\", \"year\", \"yesterday\", \"yet\", \"yet\"]}, \"R\": 10, \"lambda.step\": 0.01, \"plot.opts\": {\"xlab\": \"PC1\", \"ylab\": \"PC2\"}, \"topic.order\": [6, 5, 10, 1, 2, 8, 4, 11, 7, 3, 9]};\n",
              "\n",
              "function LDAvis_load_lib(url, callback){\n",
              "  var s = document.createElement('script');\n",
              "  s.src = url;\n",
              "  s.async = true;\n",
              "  s.onreadystatechange = s.onload = callback;\n",
              "  s.onerror = function(){console.warn(\"failed to load library \" + url);};\n",
              "  document.getElementsByTagName(\"head\")[0].appendChild(s);\n",
              "}\n",
              "\n",
              "if(typeof(LDAvis) !== \"undefined\"){\n",
              "   // already loaded: just create the visualization\n",
              "   !function(LDAvis){\n",
              "       new LDAvis(\"#\" + \"ldavis_el581407010977887527643804679\", ldavis_el581407010977887527643804679_data);\n",
              "   }(LDAvis);\n",
              "}else if(typeof define === \"function\" && define.amd){\n",
              "   // require.js is available: use it to load d3/LDAvis\n",
              "   require.config({paths: {d3: \"https://d3js.org/d3.v5\"}});\n",
              "   require([\"d3\"], function(d3){\n",
              "      window.d3 = d3;\n",
              "      LDAvis_load_lib(\"https://cdn.jsdelivr.net/gh/bmabey/pyLDAvis@3.3.1/pyLDAvis/js/ldavis.v3.0.0.js\", function(){\n",
              "        new LDAvis(\"#\" + \"ldavis_el581407010977887527643804679\", ldavis_el581407010977887527643804679_data);\n",
              "      });\n",
              "    });\n",
              "}else{\n",
              "    // require.js not available: dynamically load d3 & LDAvis\n",
              "    LDAvis_load_lib(\"https://d3js.org/d3.v5.js\", function(){\n",
              "         LDAvis_load_lib(\"https://cdn.jsdelivr.net/gh/bmabey/pyLDAvis@3.3.1/pyLDAvis/js/ldavis.v3.0.0.js\", function(){\n",
              "                 new LDAvis(\"#\" + \"ldavis_el581407010977887527643804679\", ldavis_el581407010977887527643804679_data);\n",
              "            })\n",
              "         });\n",
              "}\n",
              "</script>"
            ]
          },
          "metadata": {},
          "execution_count": 22
        }
      ],
      "source": [
        "LDA_PATH = ROOT_PATH + 'lda/'\n",
        "\n",
        "def model_coherence(corpus, dictionary, data, k, a='auto', b='auto'):\n",
        "    start_time = time.time()\n",
        "    lda_model = LdaModel(corpus=corpus,\n",
        "                id2word=dictionary,\n",
        "                num_topics=k, \n",
        "                random_state=100,\n",
        "                chunksize=2000,\n",
        "                alpha=a,\n",
        "                eta=b)\n",
        "    \n",
        "    coherence_model = CoherenceModel(model=lda_model, texts=data, dictionary=dictionary, coherence='c_v')\n",
        "    vis = gensimvis.prepare(lda_model, corpus, dictionary, mds=\"mmds\", R=10)\n",
        "    time_taken = time.time() - start_time\n",
        "    return vis, coherence_model.get_coherence(), time_taken // 60, time_taken % 60\n",
        "\n",
        "\n",
        "def lda(path, frac=1., start=5, topics=10):\n",
        "\n",
        "    df = load_data(path).sample(frac=frac, random_state=100)\n",
        "\n",
        "    # tokenize and clean data\n",
        "    tokenized_tweets = [word_tokenize(tweet) for tweet in df['text']]\n",
        "\n",
        "    # lemmatization\n",
        "    lemmatizer = WordNetLemmatizer()\n",
        "    lemmatized_tweets = [[lemmatizer.lemmatize(token) for token in tweet] for tweet in tokenized_tweets] \n",
        "\n",
        "    # stemming\n",
        "    stemmer = PorterStemmer()\n",
        "    stemmed_tweets = [[stemmer.stem(token) for token in tweet] for tweet in lemmatized_tweets]  \n",
        "\n",
        "    # bow,create a corpus from a list of texts\n",
        "    dictionary = Dictionary(stemmed_tweets)\n",
        "    corpus = [dictionary.doc2bow(text) for text in stemmed_tweets]\n",
        "\n",
        "    # lda, train the model on the corpus.\n",
        "    results = []\n",
        "    for t in range(start,start + topics + 1):\n",
        "        vis, coherence_lda, min, sec = model_coherence(corpus, dictionary, stemmed_tweets, t)\n",
        "        print(\"Done for %2d topics, score: %.4f, time: %dmin%.2fsec\" % (t, coherence_lda, min, sec))\n",
        "        results.append((vis, t, coherence_lda))\n",
        "        write_data(LDA_PATH + 'lda_result_' + str(t) + '_' + str(frac) + '.pkl', vis)\n",
        "    \n",
        "\n",
        "    results.sort(reverse=False, key=lambda x: x[1])\n",
        "    line_plot([x[1] for x in results], [x[2] for x in results], '# of topics x topic coherence')\n",
        "\n",
        "    results.sort(reverse=True, key=lambda x: x[2])\n",
        "    print('\\nNumber of topics: %d\\nCoherence Score: %.4f\\n' % (results[0][1], results[0][2]))\n",
        "    \n",
        "    return results[0][0]\n",
        "  \n",
        "pyLDAvis.enable_notebook()\n",
        "lda(DATASETS + 'data_set_clean.pkl', topics=20)"
      ]
    },
    {
      "cell_type": "markdown",
      "source": [
        "# Question 6"
      ],
      "metadata": {
        "id": "53TNGnxxt-f7"
      }
    },
    {
      "cell_type": "markdown",
      "source": [
        "## Fine tuning to find the best parameters for the classifiers"
      ],
      "metadata": {
        "id": "QlaVswI1_3p-"
      }
    },
    {
      "cell_type": "code",
      "source": [
        "def train(dataset_path, fraction = 0.01, cv = 10):\n",
        "    \n",
        "    df = load_data(dataset_path).sample(frac=fraction, random_state=100) \n",
        "\n",
        "    X = df['text'].values\n",
        "    y = df['sentiment'].values\n",
        "\n",
        "    X_train, X_test, y_train, y_test = train_test_split(X, y, test_size = 0.20, random_state = 101)\n",
        "\n",
        "    bvec = fit_vectorizer(X_train, method=CountVectorizer)\n",
        "    tfvec = fit_vectorizer(X_train, method=TfidfVectorizer)\n",
        "\n",
        "    bow_train = transform_data(X_train, bvec)\n",
        "    tf_idf_train = transform_data(X_train, tfvec)\n",
        "    emb_train = prepare_emb(X_train, model_path=GLOVE + 'glove_200d.pkl')\n",
        "\n",
        "    bow_test= transform_data(X_test, bvec)\n",
        "    tf_idf_test = transform_data(X_test, tfvec)\n",
        "    emb_test = prepare_emb(X_test, model_path=GLOVE + 'glove_200d.pkl')\n",
        "\n",
        "\n",
        "    scoring = { 'accuracy' : make_scorer(accuracy_score), \n",
        "                'precision' : make_scorer(precision_score, average='micro'),\n",
        "                'recall' : make_scorer(recall_score, average='micro'), \n",
        "                'f1_score' : make_scorer(f1_score, average='micro')\n",
        "                }\n",
        "                \n",
        "    # default: C=1. gamma='scale', degree=3, kernel='rbf'\n",
        "    param_grid_svm = [  {'C': [1., 10., 100., 200.], 'gamma': [0.001, 0.0001, 'scale'], 'kernel': ['rbf']},\n",
        "                        {'C': [1., 10., 100., 200.], 'gamma': [0.001, 0.0001, 'scale'], 'degree': [3, 4, 5], 'kernel': ['poly']}                        \n",
        "                    ]\n",
        "    # default: max_depth=None, n_estimators=100, max_features='auto'\n",
        "    param_grid_rf = [   {'max_depth': [10, 20, 40, 100], 'n_estimators': [10, 50, 100, 200, 500], 'max_features': ['auto', 'sqrt', 'log2']},                      \n",
        "                    ]\n",
        "    # default: n_neighborsint=5, p=2, weights='uniform'\n",
        "    param_grid_knn = [  {'n_neighbors': [1, 3, 5, 10, 20], 'p': [1, 2], 'weights': ['uniform', 'distance']},               \n",
        "                    ]\n",
        "                    \n",
        "    def fine_tune(clf, param_grid, X_train, y_train, X_test, y_test, cv=10, refit=True, scoring=None, verbose=0, message=''):\n",
        "        start_time = time.time()\n",
        "\n",
        "        # grid = GridSearchCV(clf, param_grid, cv=cv, refit=refit, scoring=scoring, verbose=verbose).fit(X_train, y_train)\n",
        "        grid = RandomizedSearchCV(clf, param_grid, cv=cv, refit=refit, scoring=scoring, verbose=verbose, n_jobs=-1, n_iter=50).fit(X_train, y_train)\n",
        "\n",
        "        to_print = (message + ' took') if message != '' else 'Took'\n",
        "        print(to_print + ' %.2f seconds' % (time.time() - start_time))\n",
        "\n",
        "        print(grid.best_params_)\n",
        "        print(grid.best_estimator_)\n",
        "\n",
        "        grid_predictions = grid.predict(X_test)\n",
        "        print(classification_report(y_test, grid_predictions, zero_division=0))\n",
        "\n",
        "    fine_tune(svm.SVC(), param_grid_svm, bow_train, y_train, bow_test, y_test, cv=cv, message='\\nSVM BOW')\n",
        "    fine_tune(svm.SVC(), param_grid_svm, tf_idf_train, y_train, tf_idf_test, y_test, cv=cv, message='\\nSVM TF-IDF')\n",
        "    fine_tune(svm.SVC(), param_grid_svm, emb_train, y_train, emb_test, y_test, cv=cv, message='\\nSVM EMBEDDINGS')\n",
        "\n",
        "    fine_tune(RandomForestClassifier(), param_grid_rf, bow_train, y_train, bow_test, y_test, cv=cv, message='\\nRF BOW')\n",
        "    fine_tune(RandomForestClassifier(), param_grid_rf, tf_idf_train, y_train, tf_idf_test, y_test, cv=cv, message='\\nRF TF-IDF')\n",
        "    fine_tune(RandomForestClassifier(), param_grid_rf, emb_train, y_train, emb_test, y_test, cv=cv, message='\\nRF EMBEDDINGS')\n",
        "\n",
        "    fine_tune(KNeighborsClassifier(), param_grid_knn, bow_train, y_train, bow_test, y_test, cv=cv, message='\\nKNN BOW')\n",
        "    fine_tune(KNeighborsClassifier(), param_grid_knn, tf_idf_train, y_train, tf_idf_test, y_test, cv=cv, message='\\nKNN TF-IDF')\n",
        "    fine_tune(KNeighborsClassifier(), param_grid_knn, emb_train, y_train, emb_test, y_test, cv=cv, message='\\nKNN EMBEDDINGS')"
      ],
      "metadata": {
        "id": "oYPeeYsP_8Os"
      },
      "execution_count": null,
      "outputs": []
    },
    {
      "cell_type": "code",
      "source": [
        "train(DATASETS + 'train.pkl', 0.05)"
      ],
      "metadata": {
        "colab": {
          "base_uri": "https://localhost:8080/"
        },
        "id": "YtEzuBx4QnaD",
        "outputId": "910e9ce3-f9a2-4e1f-d077-6d981dd2244c"
      },
      "execution_count": null,
      "outputs": [
        {
          "output_type": "stream",
          "name": "stdout",
          "text": [
            "\n",
            "SVM BOW took 353.91 seconds\n",
            "{'kernel': 'rbf', 'gamma': 'scale', 'C': 1.0}\n",
            "SVC()\n",
            "              precision    recall  f1-score   support\n",
            "\n",
            "         NEG       0.92      0.13      0.23       246\n",
            "         NEU       0.79      0.99      0.88      1365\n",
            "         POS       0.84      0.27      0.40       215\n",
            "\n",
            "    accuracy                           0.79      1826\n",
            "   macro avg       0.85      0.46      0.50      1826\n",
            "weighted avg       0.81      0.79      0.74      1826\n",
            "\n",
            "\n",
            "SVM TF-IDF took 379.25 seconds\n",
            "{'kernel': 'poly', 'gamma': 'scale', 'degree': 3, 'C': 1.0}\n",
            "SVC(kernel='poly')\n",
            "              precision    recall  f1-score   support\n",
            "\n",
            "         NEG       0.82      0.13      0.22       246\n",
            "         NEU       0.77      0.99      0.87      1365\n",
            "         POS       0.76      0.13      0.23       215\n",
            "\n",
            "    accuracy                           0.77      1826\n",
            "   macro avg       0.78      0.42      0.44      1826\n",
            "weighted avg       0.78      0.77      0.71      1826\n",
            "\n",
            "\n",
            "SVM EMBEDDINGS took 553.01 seconds\n",
            "{'kernel': 'rbf', 'gamma': 0.001, 'C': 200.0}\n",
            "SVC(C=200.0, gamma=0.001)\n",
            "              precision    recall  f1-score   support\n",
            "\n",
            "         NEG       0.71      0.45      0.55       246\n",
            "         NEU       0.84      0.95      0.89      1365\n",
            "         POS       0.79      0.43      0.56       215\n",
            "\n",
            "    accuracy                           0.82      1826\n",
            "   macro avg       0.78      0.61      0.67      1826\n",
            "weighted avg       0.82      0.82      0.81      1826\n",
            "\n",
            "\n",
            "RF BOW took 90.57 seconds\n",
            "{'n_estimators': 200, 'max_features': 'log2', 'max_depth': 100}\n",
            "RandomForestClassifier(max_depth=100, max_features='log2', n_estimators=200)\n",
            "              precision    recall  f1-score   support\n",
            "\n",
            "         NEG       0.84      0.15      0.26       246\n",
            "         NEU       0.79      0.98      0.88      1365\n",
            "         POS       0.78      0.29      0.42       215\n",
            "\n",
            "    accuracy                           0.79      1826\n",
            "   macro avg       0.80      0.47      0.52      1826\n",
            "weighted avg       0.79      0.79      0.74      1826\n",
            "\n",
            "\n",
            "RF TF-IDF took 223.66 seconds\n",
            "{'n_estimators': 200, 'max_features': 'auto', 'max_depth': 100}\n",
            "RandomForestClassifier(max_depth=100, n_estimators=200)\n",
            "              precision    recall  f1-score   support\n",
            "\n",
            "         NEG       0.79      0.24      0.37       246\n",
            "         NEU       0.81      0.98      0.89      1365\n",
            "         POS       0.77      0.40      0.53       215\n",
            "\n",
            "    accuracy                           0.81      1826\n",
            "   macro avg       0.79      0.54      0.60      1826\n",
            "weighted avg       0.81      0.81      0.78      1826\n",
            "\n",
            "\n",
            "RF EMBEDDINGS took 1827.97 seconds\n",
            "{'n_estimators': 200, 'max_features': 'auto', 'max_depth': 40}\n",
            "RandomForestClassifier(max_depth=40, n_estimators=200)\n",
            "              precision    recall  f1-score   support\n",
            "\n",
            "         NEG       0.83      0.16      0.27       246\n",
            "         NEU       0.78      0.99      0.87      1365\n",
            "         POS       0.76      0.13      0.23       215\n",
            "\n",
            "    accuracy                           0.78      1826\n",
            "   macro avg       0.79      0.43      0.46      1826\n",
            "weighted avg       0.78      0.78      0.71      1826\n",
            "\n",
            "\n",
            "KNN BOW took 20.95 seconds\n",
            "{'weights': 'distance', 'p': 1, 'n_neighbors': 10}\n",
            "KNeighborsClassifier(n_neighbors=10, p=1, weights='distance')\n",
            "              precision    recall  f1-score   support\n",
            "\n",
            "         NEG       0.77      0.07      0.13       246\n",
            "         NEU       0.76      0.99      0.86      1365\n",
            "         POS       0.75      0.06      0.10       215\n",
            "\n",
            "    accuracy                           0.76      1826\n",
            "   macro avg       0.76      0.37      0.36      1826\n",
            "weighted avg       0.76      0.76      0.67      1826\n",
            "\n",
            "\n",
            "KNN TF-IDF took 22.83 seconds\n",
            "{'weights': 'distance', 'p': 2, 'n_neighbors': 10}\n",
            "KNeighborsClassifier(n_neighbors=10, weights='distance')\n",
            "              precision    recall  f1-score   support\n",
            "\n",
            "         NEG       0.78      0.07      0.13       246\n",
            "         NEU       0.76      0.99      0.86      1365\n",
            "         POS       0.72      0.08      0.15       215\n",
            "\n",
            "    accuracy                           0.76      1826\n",
            "   macro avg       0.75      0.38      0.38      1826\n",
            "weighted avg       0.76      0.76      0.68      1826\n",
            "\n",
            "\n",
            "KNN EMBEDDINGS took 62.65 seconds\n",
            "{'weights': 'distance', 'p': 1, 'n_neighbors': 20}\n",
            "KNeighborsClassifier(n_neighbors=20, p=1, weights='distance')\n",
            "              precision    recall  f1-score   support\n",
            "\n",
            "         NEG       0.61      0.24      0.35       246\n",
            "         NEU       0.80      0.97      0.87      1365\n",
            "         POS       0.79      0.27      0.40       215\n",
            "\n",
            "    accuracy                           0.79      1826\n",
            "   macro avg       0.73      0.49      0.54      1826\n",
            "weighted avg       0.77      0.79      0.75      1826\n",
            "\n"
          ]
        }
      ]
    },
    {
      "cell_type": "markdown",
      "source": [
        "We notice that there for different methods of text vectorizing the parameters that yield the best results differ by a lot \n",
        "\n",
        "This is not wrong, since we essentially have different input each time and we cannot expect the same parameters to work the same despite that the tweets given are the same\n",
        "\n",
        "\n",
        "We also notice that they differ a **lot** from the (almost) default we tried on Q4, which is also logical to happen \n",
        "\n",
        "We should note that although we did cross validation to meassure the performance of each parameter combination and it is indeed a good method to evaluate models when the data set is small, the parameters we found are the best for the given data set (a small fraction of the complete one) and they may differ from the best ones in general. \n",
        "\n",
        "The next step is to train the model that yields the best results on the complete training set and meassure its performance on the test set"
      ],
      "metadata": {
        "id": "nQKzoHB7kCac"
      }
    }
  ],
  "metadata": {
    "colab": {
      "provenance": [],
      "toc_visible": true
    },
    "kernelspec": {
      "display_name": "Python 3",
      "name": "python3"
    },
    "language_info": {
      "name": "python"
    }
  },
  "nbformat": 4,
  "nbformat_minor": 0
}